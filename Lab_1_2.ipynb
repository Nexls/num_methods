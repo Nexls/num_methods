{
 "cells": [
  {
   "cell_type": "markdown",
   "metadata": {
    "id": "vJBGrgOV_Up7"
   },
   "source": [
    "# Вариант 13 по журналу"
   ]
  },
  {
   "cell_type": "code",
   "execution_count": 8,
   "metadata": {
    "id": "hOGxS8F3-frm"
   },
   "outputs": [],
   "source": [
    "import numpy as np"
   ]
  },
  {
   "cell_type": "code",
   "execution_count": 9,
   "metadata": {
    "id": "0Hrkbb-w-6IP"
   },
   "outputs": [],
   "source": [
    "a = [[1,2,3],\n",
    "     [1,4,2]]"
   ]
  },
  {
   "cell_type": "code",
   "execution_count": 10,
   "metadata": {
    "id": "E8qdmyVY-7ja"
   },
   "outputs": [],
   "source": [
    "# Четырехмерная матрица\n",
    "A1 = np.array([[-3., -2., -4., 3.],\n",
    "              [-2., -4., -5., -5.],\n",
    "              [0, 2., 2., -4.],\n",
    "              [-5., 4., 4., 4.]])\n",
    "\n",
    "B1 = np.array([38., 10., -26., 16.])"
   ]
  },
  {
   "cell_type": "code",
   "execution_count": 11,
   "metadata": {
    "id": "sFYbRTmC_B6W"
   },
   "outputs": [],
   "source": [
    "A2 = np.array([[-2., -3., 1., -4., -1.],\n",
    "              [2., 4., -3., -5., 2.],\n",
    "              [2., 0, -2., -3., 3.],\n",
    "              [-3., -4., -1., -1., 4.],\n",
    "              [4., -2., 1., -3., -4.]])\n",
    "\n",
    "B2 = np.array([25., 32., 30., -23., -16.])"
   ]
  },
  {
   "cell_type": "code",
   "execution_count": 12,
   "metadata": {
    "id": "DBSwb-k9_ZjW"
   },
   "outputs": [],
   "source": [
    "def print_iteration(A,B):\n",
    "    for i in range(A.shape[0]):\n",
    "        print(A[i],'|=|',B[i])"
   ]
  },
  {
   "cell_type": "code",
   "execution_count": 13,
   "metadata": {
    "colab": {
     "base_uri": "https://localhost:8080/"
    },
    "id": "D5f27zya_bl4",
    "outputId": "e1318360-39cb-44f2-980e-119804758883"
   },
   "outputs": [
    {
     "name": "stdout",
     "output_type": "stream",
     "text": [
      "[-3. -2. -4.  3.] |=| 38.0\n",
      "[-2. -4. -5. -5.] |=| 10.0\n",
      "[ 0.  2.  2. -4.] |=| -26.0\n",
      "[-5.  4.  4.  4.] |=| 16.0\n"
     ]
    }
   ],
   "source": [
    "print_iteration(A1,B1)"
   ]
  },
  {
   "cell_type": "code",
   "execution_count": 32,
   "metadata": {
    "id": "niFsXs6P_dIp"
   },
   "outputs": [],
   "source": [
    "def to_triangle(A,B):\n",
    "    for i in range(A.shape[0] - 1):\n",
    "        denominator = A[i][i]\n",
    "        if denominator == 0:\n",
    "            continue\n",
    "        A[i] = A[i] / denominator\n",
    "        B[i] = B[i] / denominator\n",
    "\n",
    "        for k in range(A.shape[0] - 1, i, -1):\n",
    "            B[k] = B[k] - A[k][i] * B[i]\n",
    "            A[k] = A[k] - A[k][i] * A[i]\n",
    "        print_iteration(A,B)\n",
    "        print('----------------')\n",
    "    return A, B\n",
    "\n",
    "\n",
    "def find_roots(A,B):\n",
    "    X = [0. for i in range(B.shape[0])]\n",
    "\n",
    "    for i in range(B.shape[0] - 1, -1, -1):\n",
    "        X[i] = ((B[i] - sum(X * A[i])) / A[i][i]).round()\n",
    "        \n",
    "    print('Найденные корни:')\n",
    "    return X\n",
    "\n",
    "\n",
    "def Gauss_method(A, B):\n",
    "    triangle_form = to_triangle(A,B)\n",
    "    return find_roots(triangle_form[0],triangle_form[1])"
   ]
  },
  {
   "cell_type": "code",
   "execution_count": 43,
   "metadata": {
    "id": "E8qdmyVY-7ja"
   },
   "outputs": [],
   "source": [
    "A1 = np.array([[7., 8., 9.],\n",
    "               [1., 2., 3.],\n",
    "              [4., 5., 6.],])\n",
    "\n",
    "B1 = np.array([24., 6., 16.])"
   ]
  },
  {
   "cell_type": "code",
   "execution_count": 44,
   "metadata": {
    "colab": {
     "base_uri": "https://localhost:8080/"
    },
    "id": "HnRV3hgl_mH3",
    "outputId": "c4da444e-dd71-48bc-dd27-10ae90654f00"
   },
   "outputs": [
    {
     "name": "stdout",
     "output_type": "stream",
     "text": [
      "[1.         1.14285714 1.28571429] |=| 3.4285714285714284\n",
      "[0.         0.85714286 1.71428571] |=| 2.5714285714285716\n",
      "[0.         0.42857143 0.85714286] |=| 2.2857142857142865\n",
      "----------------\n",
      "[1.         1.14285714 1.28571429] |=| 3.4285714285714284\n",
      "[0. 1. 2.] |=| 3.0\n",
      "[ 0.00000000e+00  0.00000000e+00 -7.77156117e-16] |=| 1.0\n",
      "----------------\n",
      "Найденные корни:\n"
     ]
    },
    {
     "data": {
      "text/plain": [
       "[-1286742750677282.0, 2573485501354570.0, -1286742750677284.0]"
      ]
     },
     "execution_count": 44,
     "metadata": {},
     "output_type": "execute_result"
    }
   ],
   "source": [
    "Gauss_method(A1, B1)"
   ]
  },
  {
   "cell_type": "code",
   "execution_count": 18,
   "metadata": {
    "colab": {
     "base_uri": "https://localhost:8080/"
    },
    "id": "3qyyLvvF_nU3",
    "outputId": "a3a0b900-9ba3-48ce-e01a-167349740c25"
   },
   "outputs": [
    {
     "name": "stdout",
     "output_type": "stream",
     "text": [
      "[ 1.   1.5 -0.5  2.   0.5] |=| -12.5\n",
      "[ 0.  1. -2. -9.  1.] |=| 57.0\n",
      "[ 0. -3. -1. -7.  2.] |=| 55.0\n",
      "[ 0.   0.5 -2.5  5.   5.5] |=| -60.5\n",
      "[  0.  -8.   3. -11.  -6.] |=| 34.0\n",
      "----------------\n",
      "[ 1.   1.5 -0.5  2.   0.5] |=| -12.5\n",
      "[ 0.  1. -2. -9.  1.] |=| 57.0\n",
      "[  0.   0.  -7. -34.   5.] |=| 226.0\n",
      "[ 0.   0.  -1.5  9.5  5. ] |=| -89.0\n",
      "[  0.   0. -13. -83.   2.] |=| 490.0\n",
      "----------------\n",
      "[ 1.   1.5 -0.5  2.   0.5] |=| -12.5\n",
      "[ 0.  1. -2. -9.  1.] |=| 57.0\n",
      "[-0.         -0.          1.          4.85714286 -0.71428571] |=| -32.285714285714285\n",
      "[ 0.          0.          0.         16.78571429  3.92857143] |=| -137.42857142857144\n",
      "[  0.           0.           0.         -19.85714286  -7.28571429] |=| 70.28571428571428\n",
      "----------------\n",
      "[ 1.   1.5 -0.5  2.   0.5] |=| -12.5\n",
      "[ 0.  1. -2. -9.  1.] |=| 57.0\n",
      "[-0.         -0.          1.          4.85714286 -0.71428571] |=| -32.285714285714285\n",
      "[0.         0.         0.         1.         0.23404255] |=| -8.187234042553193\n",
      "[ 0.          0.          0.          0.         -2.63829787] |=| -92.28936170212774\n",
      "----------------\n",
      "Найденные корни:\n"
     ]
    },
    {
     "data": {
      "text/plain": [
       "[10.0, 18.0, 70.0, -16.0, 35.0]"
      ]
     },
     "execution_count": 18,
     "metadata": {},
     "output_type": "execute_result"
    }
   ],
   "source": [
    "Gauss_method(A2, B2)"
   ]
  },
  {
   "cell_type": "markdown",
   "metadata": {},
   "source": [
    "Метод Гаусса допускает - тогда нужно, чтобы алгоритм пропустил столбец, где найден ноль, при этом не увеличивая номер строки.\n",
    "\n",
    "Если критерий существования корней выполнен, то алгоритм должен выдавать одно из множества решений - для этого нужно задать случайное значение исключенным переменным, и через них вычислить оставшиеся."
   ]
  },
  {
   "cell_type": "code",
   "execution_count": null,
   "metadata": {},
   "outputs": [],
   "source": []
  }
 ],
 "metadata": {
  "colab": {
   "name": "Lab_1_2.ipynb",
   "provenance": []
  },
  "kernelspec": {
   "display_name": "Python 3",
   "language": "python",
   "name": "python3"
  },
  "language_info": {
   "codemirror_mode": {
    "name": "ipython",
    "version": 3
   },
   "file_extension": ".py",
   "mimetype": "text/x-python",
   "name": "python",
   "nbconvert_exporter": "python",
   "pygments_lexer": "ipython3",
   "version": "3.8.6"
  }
 },
 "nbformat": 4,
 "nbformat_minor": 1
}

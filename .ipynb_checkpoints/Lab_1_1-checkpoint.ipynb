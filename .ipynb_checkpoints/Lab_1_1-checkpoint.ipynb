{
 "cells": [
  {
   "cell_type": "markdown",
   "metadata": {
    "id": "ethSKdgN4iFz"
   },
   "source": [
    "# Вариант 13 по журналу"
   ]
  },
  {
   "cell_type": "code",
   "execution_count": 1,
   "metadata": {
    "id": "MTPRmBXw3SJe"
   },
   "outputs": [],
   "source": [
    "import math\n",
    "import pandas as pd\n",
    "import matplotlib.pyplot as plt"
   ]
  },
  {
   "cell_type": "code",
   "execution_count": 2,
   "metadata": {
    "id": "E-zoyYfz4gJt"
   },
   "outputs": [],
   "source": [
    "def f1(n):\n",
    "    my_func = 7*math.exp(n) / n**(n + 1)\n",
    "    return my_func\n",
    "\n",
    "def f2(n):\n",
    "    my_func = (-1)**(n + 1) * (math.pi/4)**n / (2 * math.factorial(n))\n",
    "    return my_func"
   ]
  },
  {
   "cell_type": "code",
   "execution_count": 3,
   "metadata": {
    "id": "K_uMikos3kg3"
   },
   "outputs": [],
   "source": [
    "func_result1 = pd.DataFrame(columns = ['n', 'result'])\n",
    "func_result2 = pd.DataFrame(columns = ['n', 'result'])\n",
    "\n",
    "for n in range(1, 22):\n",
    "    func_result1.loc[n] = [n,f1(n)]\n",
    "    func_result2.loc[n] = [n,f2(n)]"
   ]
  },
  {
   "cell_type": "code",
   "execution_count": 4,
   "metadata": {
    "colab": {
     "base_uri": "https://localhost:8080/"
    },
    "id": "dXzG8PjW6alC",
    "outputId": "99c2126e-e001-448a-aad2-c0e734020703"
   },
   "outputs": [
    {
     "name": "stdout",
     "output_type": "stream",
     "text": [
      "Сумма первого ряда: 27.680495717042177\n",
      "Сумма второго ряда: 0.27203093611700185\n"
     ]
    }
   ],
   "source": [
    "print('Сумма первого ряда:',func_result1['result'].sum())\n",
    "print('Сумма второго ряда:',func_result2['result'].sum())"
   ]
  },
  {
   "cell_type": "code",
   "execution_count": 5,
   "metadata": {
    "colab": {
     "base_uri": "https://localhost:8080/",
     "height": 298
    },
    "id": "urYjdqmc6dpO",
    "outputId": "da262836-397a-4236-d60b-862830aed0eb"
   },
   "outputs": [
    {
     "data": {
      "image/png": "[encoded data removed]",
      "text/plain": [
       "<Figure size 432x288 with 1 Axes>"
      ]
     },
     "metadata": {
      "needs_background": "light"
     },
     "output_type": "display_data"
    },
    {
     "data": {
      "text/plain": [
       "<Figure size 864x432 with 0 Axes>"
      ]
     },
     "metadata": {},
     "output_type": "display_data"
    }
   ],
   "source": [
    "plt.plot(func_result1['n'], func_result1['result'])\n",
    "plt.title('Ряд')\n",
    "plt.ylabel('Значения ряда')\n",
    "plt.figure(figsize = (12,6))\n",
    "plt.show()"
   ]
  },
  {
   "cell_type": "code",
   "execution_count": 6,
   "metadata": {
    "colab": {
     "base_uri": "https://localhost:8080/",
     "height": 298
    },
    "id": "4em2hJMP6hb0",
    "outputId": "4a659338-1e33-49a2-d67f-c52ce7ab090c"
   },
   "outputs": [
    {
     "data": {
      "image/png": "[encoded data removed]",
      "text/plain": [
       "<Figure size 432x288 with 1 Axes>"
      ]
     },
     "metadata": {
      "needs_background": "light"
     },
     "output_type": "display_data"
    },
    {
     "data": {
      "text/plain": [
       "<Figure size 864x432 with 0 Axes>"
      ]
     },
     "metadata": {},
     "output_type": "display_data"
    }
   ],
   "source": [
    "# График второго ряда\n",
    "plt.plot(func_result2['n'], func_result2['result'])\n",
    "plt.title('Ряд')\n",
    "plt.ylabel('Значения ряда')\n",
    "plt.figure(figsize = (12,6))\n",
    "plt.show();"
   ]
  },
  {
   "cell_type": "code",
   "execution_count": 7,
   "metadata": {
    "id": "hfH-Gy-A6pc9"
   },
   "outputs": [],
   "source": [
    "def row_sum(func_n, e = 1e-6):\n",
    "    \"\"\"\n",
    "    Считаем сумму ряда с точностью\n",
    "    \"\"\"\n",
    "    # Счетчик итераций\n",
    "    n = 1\n",
    "    res_sum = 0\n",
    "    while abs(func_n(n) - func_n(n+1)) > e:\n",
    "        res_sum += func_n(n)\n",
    "        n += 1\n",
    "\n",
    "    print('Cумма ряда с погрешностью', e, 'равна', res_sum)\n",
    "    print('Количество итераций:', n)"
   ]
  },
  {
   "cell_type": "code",
   "execution_count": 8,
   "metadata": {
    "colab": {
     "base_uri": "https://localhost:8080/"
    },
    "id": "GcvoElT96rzH",
    "outputId": "bc7b4aeb-1bed-4226-d4b3-2cc94b421f73"
   },
   "outputs": [
    {
     "name": "stdout",
     "output_type": "stream",
     "text": [
      "Ряд: 1 / (n * ln(n + 1)^2)\n",
      "Cумма ряда с погрешностью 1e-06 равна 27.68049557200541\n",
      "Количество итераций: 11\n"
     ]
    }
   ],
   "source": [
    "print('Ряд: 1 / (n * ln(n + 1)^2)')\n",
    "row_sum(f1)"
   ]
  },
  {
   "cell_type": "code",
   "execution_count": 9,
   "metadata": {
    "colab": {
     "base_uri": "https://localhost:8080/"
    },
    "id": "fCEVougw6s-5",
    "outputId": "dfc20151-922a-4e92-e386-105c45211343"
   },
   "outputs": [
    {
     "name": "stdout",
     "output_type": "stream",
     "text": [
      "Ряд: (-1)^(n + 1) * 0.2^n / (2^n - 1)\n",
      "Cумма ряда с погрешностью 1e-06 равна 0.27203079091743504\n",
      "Количество итераций: 9\n"
     ]
    }
   ],
   "source": [
    "print('Ряд: (-1)^(n + 1) * 0.2^n / (2^n - 1)')\n",
    "row_sum(f2)"
   ]
  }
 ],
 "metadata": {
  "colab": {
   "collapsed_sections": [],
   "name": "Lab_1_1.ipynb",
   "provenance": []
  },
  "kernelspec": {
   "display_name": "Python 3",
   "language": "python",
   "name": "python3"
  },
  "language_info": {
   "codemirror_mode": {
    "name": "ipython",
    "version": 3
   },
   "file_extension": ".py",
   "mimetype": "text/x-python",
   "name": "python",
   "nbconvert_exporter": "python",
   "pygments_lexer": "ipython3",
   "version": "3.8.5"
  }
 },
 "nbformat": 4,
 "nbformat_minor": 1
}

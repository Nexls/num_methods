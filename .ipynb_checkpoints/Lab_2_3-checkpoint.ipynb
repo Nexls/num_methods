{
 "cells": [
  {
   "cell_type": "markdown",
   "metadata": {},
   "source": [
    "## Вариант 13"
   ]
  },
  {
   "cell_type": "code",
   "execution_count": 2,
   "metadata": {},
   "outputs": [
    {
     "name": "stdout",
     "output_type": "stream",
     "text": [
      "Populating the interactive namespace from numpy and matplotlib\n"
     ]
    }
   ],
   "source": [
    "import pandas as pd\n",
    "import numpy as np\n",
    "from matplotlib import pyplot as plt\n",
    "%pylab inline"
   ]
  },
  {
   "cell_type": "markdown",
   "metadata": {},
   "source": [
    "## Метод наименьших квадратов."
   ]
  },
  {
   "cell_type": "markdown",
   "metadata": {},
   "source": [
    "Для той же функции и отрезка [𝑎, 𝑏] написать программу, вычисляющую приближённо аппроксимацию по\n",
    "набору точек с помощью метода наименьших квадратов с целевым многочленом\n",
    "степени K."
   ]
  },
  {
   "cell_type": "markdown",
   "metadata": {},
   "source": [
    "Построим график заданной функции на участке от 3 до 10:"
   ]
  },
  {
   "cell_type": "code",
   "execution_count": 3,
   "metadata": {},
   "outputs": [
    {
     "data": {
      "text/plain": [
       "<Figure size 720x432 with 0 Axes>"
      ]
     },
     "metadata": {},
     "output_type": "display_data"
    },
    {
     "data": {
      "image/png": "[encoded data removed]",
      "text/plain": [
       "<Figure size 720x432 with 1 Axes>"
      ]
     },
     "metadata": {
      "needs_background": "light"
     },
     "output_type": "display_data"
    }
   ],
   "source": [
    "plt.figure(figsize=(10,6))\n",
    "x = np.linspace(3, 10, 100)\n",
    "y = np.log(x+(x*x-1)**0.5)\n",
    "\n",
    "plt.figure(figsize=(10,6))\n",
    "plt.plot(x, y);"
   ]
  },
  {
   "cell_type": "markdown",
   "metadata": {},
   "source": [
    "Массив опорных точек по которому нужно восстановить функцию:"
   ]
  },
  {
   "cell_type": "code",
   "execution_count": 4,
   "metadata": {},
   "outputs": [],
   "source": [
    "X = np.array([3, 4, 5, 6, 7, 8, 9, 10])\n",
    "\n",
    "x = np.linspace(3, 10, 100)\n",
    "Y = np.log(X+(X*X-1)**0.5)"
   ]
  },
  {
   "cell_type": "code",
   "execution_count": 5,
   "metadata": {},
   "outputs": [
    {
     "data": {
      "text/html": [
       "<div>\n",
       "<style scoped>\n",
       "    .dataframe tbody tr th:only-of-type {\n",
       "        vertical-align: middle;\n",
       "    }\n",
       "\n",
       "    .dataframe tbody tr th {\n",
       "        vertical-align: top;\n",
       "    }\n",
       "\n",
       "    .dataframe thead th {\n",
       "        text-align: right;\n",
       "    }\n",
       "</style>\n",
       "<table border=\"1\" class=\"dataframe\">\n",
       "  <thead>\n",
       "    <tr style=\"text-align: right;\">\n",
       "      <th></th>\n",
       "      <th>X</th>\n",
       "      <th>Y</th>\n",
       "    </tr>\n",
       "  </thead>\n",
       "  <tbody>\n",
       "    <tr>\n",
       "      <th>0</th>\n",
       "      <td>3.0</td>\n",
       "      <td>1.762747</td>\n",
       "    </tr>\n",
       "    <tr>\n",
       "      <th>1</th>\n",
       "      <td>4.0</td>\n",
       "      <td>2.063437</td>\n",
       "    </tr>\n",
       "    <tr>\n",
       "      <th>2</th>\n",
       "      <td>5.0</td>\n",
       "      <td>2.292432</td>\n",
       "    </tr>\n",
       "    <tr>\n",
       "      <th>3</th>\n",
       "      <td>6.0</td>\n",
       "      <td>2.477889</td>\n",
       "    </tr>\n",
       "    <tr>\n",
       "      <th>4</th>\n",
       "      <td>7.0</td>\n",
       "      <td>2.633916</td>\n",
       "    </tr>\n",
       "  </tbody>\n",
       "</table>\n",
       "</div>"
      ],
      "text/plain": [
       "     X         Y\n",
       "0  3.0  1.762747\n",
       "1  4.0  2.063437\n",
       "2  5.0  2.292432\n",
       "3  6.0  2.477889\n",
       "4  7.0  2.633916"
      ]
     },
     "execution_count": 5,
     "metadata": {},
     "output_type": "execute_result"
    }
   ],
   "source": [
    "data = pd.DataFrame(columns = ['X', 'Y'],\n",
    "            data = np.array([X, Y]).T)\n",
    "# выведем несколько точек\n",
    "data.head(5)"
   ]
  },
  {
   "cell_type": "code",
   "execution_count": 6,
   "metadata": {},
   "outputs": [],
   "source": [
    "class MNK:\n",
    "    def __init__(self, fit_intercept = True, up_size = False):\n",
    "        self.fit_intercept = fit_intercept\n",
    "        self.up_size = up_size \n",
    "\n",
    "    def seek_coef(self, X, y):        \n",
    "        if self.fit_intercept:\n",
    "            if self.up_size == True:\n",
    "                X = np.hstack( (np.ones((X.shape[0], 1)), X.to_numpy().reshape((X.shape[0], 1))) )\n",
    "            else:\n",
    "                X = np.hstack( (np.ones((X.shape[0], 1)), X))\n",
    "\n",
    "        self.a = np.linalg.inv(X.T @ X) @ X.T @ y\n",
    "        return self\n",
    "        \n",
    "    def predict(self, X):\n",
    "        if self.fit_intercept:\n",
    "            if self.up_size == True:\n",
    "                X = np.hstack( (np.ones((X.shape[0], 1)), X.to_numpy().reshape((X.shape[0], 1))) )\n",
    "            else:\n",
    "                X = np.hstack( (np.ones((X.shape[0], 1)), X))\n",
    "        y_pred = X @ self.a\n",
    "        return y_pred\n",
    "    \n",
    "    def get_coef(self):\n",
    "        return self.a"
   ]
  },
  {
   "cell_type": "markdown",
   "metadata": {},
   "source": [
    "#### Линейная функция"
   ]
  },
  {
   "cell_type": "markdown",
   "metadata": {},
   "source": [
    "Коэффициенты при линейной функции:"
   ]
  },
  {
   "cell_type": "code",
   "execution_count": 7,
   "metadata": {},
   "outputs": [
    {
     "name": "stdout",
     "output_type": "stream",
     "text": [
      "a0 = 1.3771\n",
      "a1 = 0.1704\n"
     ]
    }
   ],
   "source": [
    "mnk = MNK(up_size = True)\n",
    "coef = mnk.seek_coef(data.X, data.Y).get_coef()\n",
    "print('a0 = %.4f' % coef[0])\n",
    "print('a1 = %.4f' % coef[1])"
   ]
  },
  {
   "cell_type": "markdown",
   "metadata": {},
   "source": [
    "Построим график исходной функции и линейной функции, полученной МНК:"
   ]
  },
  {
   "cell_type": "code",
   "execution_count": 8,
   "metadata": {},
   "outputs": [
    {
     "data": {
      "image/png": "[encoded data removed]",
      "text/plain": [
       "<Figure size 720x432 with 1 Axes>"
      ]
     },
     "metadata": {
      "needs_background": "light"
     },
     "output_type": "display_data"
    }
   ],
   "source": [
    "plt.figure(figsize=(10, 6))\n",
    "plt.scatter(data.X, data.Y, label = 'f(x)', linewidths = 4)\n",
    "plt.plot(X, mnk.predict(data.X), color = 'b', label = 'linear MNK')\n",
    "plt.legend()\n",
    "plt.show()"
   ]
  },
  {
   "cell_type": "markdown",
   "metadata": {},
   "source": [
    "Посмотрим на значения линейной функции, полученной МНК, в точках и на невяки линейной функции:"
   ]
  },
  {
   "cell_type": "code",
   "execution_count": 9,
   "metadata": {},
   "outputs": [],
   "source": [
    "data['Linear MNK'] = mnk.predict(data.X)\n",
    "data['residuals of linear'] = [(Y[i] - value)**2 for i, value in enumerate(mnk.predict(data.X))]"
   ]
  },
  {
   "cell_type": "code",
   "execution_count": 11,
   "metadata": {},
   "outputs": [
    {
     "data": {
      "text/html": [
       "<div>\n",
       "<style scoped>\n",
       "    .dataframe tbody tr th:only-of-type {\n",
       "        vertical-align: middle;\n",
       "    }\n",
       "\n",
       "    .dataframe tbody tr th {\n",
       "        vertical-align: top;\n",
       "    }\n",
       "\n",
       "    .dataframe thead th {\n",
       "        text-align: right;\n",
       "    }\n",
       "</style>\n",
       "<table border=\"1\" class=\"dataframe\">\n",
       "  <thead>\n",
       "    <tr style=\"text-align: right;\">\n",
       "      <th></th>\n",
       "      <th>X</th>\n",
       "      <th>Y</th>\n",
       "      <th>Linear MNK</th>\n",
       "      <th>residuals of linear</th>\n",
       "    </tr>\n",
       "  </thead>\n",
       "  <tbody>\n",
       "    <tr>\n",
       "      <th>0</th>\n",
       "      <td>3.0</td>\n",
       "      <td>1.762747</td>\n",
       "      <td>1.888396</td>\n",
       "      <td>0.015788</td>\n",
       "    </tr>\n",
       "    <tr>\n",
       "      <th>1</th>\n",
       "      <td>4.0</td>\n",
       "      <td>2.063437</td>\n",
       "      <td>2.058839</td>\n",
       "      <td>0.000021</td>\n",
       "    </tr>\n",
       "    <tr>\n",
       "      <th>2</th>\n",
       "      <td>5.0</td>\n",
       "      <td>2.292432</td>\n",
       "      <td>2.229282</td>\n",
       "      <td>0.003988</td>\n",
       "    </tr>\n",
       "    <tr>\n",
       "      <th>3</th>\n",
       "      <td>6.0</td>\n",
       "      <td>2.477889</td>\n",
       "      <td>2.399725</td>\n",
       "      <td>0.006110</td>\n",
       "    </tr>\n",
       "    <tr>\n",
       "      <th>4</th>\n",
       "      <td>7.0</td>\n",
       "      <td>2.633916</td>\n",
       "      <td>2.570168</td>\n",
       "      <td>0.004064</td>\n",
       "    </tr>\n",
       "    <tr>\n",
       "      <th>5</th>\n",
       "      <td>8.0</td>\n",
       "      <td>2.768659</td>\n",
       "      <td>2.740611</td>\n",
       "      <td>0.000787</td>\n",
       "    </tr>\n",
       "    <tr>\n",
       "      <th>6</th>\n",
       "      <td>9.0</td>\n",
       "      <td>2.887271</td>\n",
       "      <td>2.911054</td>\n",
       "      <td>0.000566</td>\n",
       "    </tr>\n",
       "    <tr>\n",
       "      <th>7</th>\n",
       "      <td>10.0</td>\n",
       "      <td>2.993223</td>\n",
       "      <td>3.081497</td>\n",
       "      <td>0.007792</td>\n",
       "    </tr>\n",
       "  </tbody>\n",
       "</table>\n",
       "</div>"
      ],
      "text/plain": [
       "      X         Y  Linear MNK  residuals of linear\n",
       "0   3.0  1.762747    1.888396             0.015788\n",
       "1   4.0  2.063437    2.058839             0.000021\n",
       "2   5.0  2.292432    2.229282             0.003988\n",
       "3   6.0  2.477889    2.399725             0.006110\n",
       "4   7.0  2.633916    2.570168             0.004064\n",
       "5   8.0  2.768659    2.740611             0.000787\n",
       "6   9.0  2.887271    2.911054             0.000566\n",
       "7  10.0  2.993223    3.081497             0.007792"
      ]
     },
     "execution_count": 11,
     "metadata": {},
     "output_type": "execute_result"
    }
   ],
   "source": [
    "data"
   ]
  },
  {
   "cell_type": "markdown",
   "metadata": {},
   "source": [
    "#### Квадратичная функция"
   ]
  },
  {
   "cell_type": "code",
   "execution_count": 12,
   "metadata": {},
   "outputs": [
    {
     "name": "stdout",
     "output_type": "stream",
     "text": [
      "a0 = 0.8265\n",
      "a1 = 0.3639\n",
      "a2 = -0.0149\n"
     ]
    }
   ],
   "source": [
    "data['X^2'] = list(map(lambda x: x**2, data.X))\n",
    "mnk = MNK()\n",
    "coef = mnk.seek_coef(data[['X', 'X^2']].to_numpy(), data.Y).get_coef()\n",
    "print('a0 = %.4f' % coef[0])\n",
    "print('a1 = %.4f' % coef[1])\n",
    "print('a2 = %.4f' % coef[2])"
   ]
  },
  {
   "cell_type": "code",
   "execution_count": 13,
   "metadata": {},
   "outputs": [
    {
     "data": {
      "image/png": "[encoded data removed]",
      "text/plain": [
       "<Figure size 432x288 with 1 Axes>"
      ]
     },
     "metadata": {
      "needs_background": "light"
     },
     "output_type": "display_data"
    }
   ],
   "source": [
    "plt.scatter(data.X, data.Y, label = 'f(x)', linewidths = 4)\n",
    "plt.plot(X, mnk.predict(data[['X', 'X^2']].to_numpy()), color = 'b', label = 'Square MNK')\n",
    "plt.legend()\n",
    "plt.show()"
   ]
  },
  {
   "cell_type": "code",
   "execution_count": 14,
   "metadata": {},
   "outputs": [],
   "source": [
    "data['Square MNK'] =  mnk.predict(data[['X', 'X^2']].to_numpy())\n",
    "data['residuals of square'] = [(Y[i] - value)**2 for i, value in enumerate(data['Square MNK'])]"
   ]
  },
  {
   "cell_type": "code",
   "execution_count": 15,
   "metadata": {},
   "outputs": [
    {
     "data": {
      "text/html": [
       "<div>\n",
       "<style scoped>\n",
       "    .dataframe tbody tr th:only-of-type {\n",
       "        vertical-align: middle;\n",
       "    }\n",
       "\n",
       "    .dataframe tbody tr th {\n",
       "        vertical-align: top;\n",
       "    }\n",
       "\n",
       "    .dataframe thead th {\n",
       "        text-align: right;\n",
       "    }\n",
       "</style>\n",
       "<table border=\"1\" class=\"dataframe\">\n",
       "  <thead>\n",
       "    <tr style=\"text-align: right;\">\n",
       "      <th></th>\n",
       "      <th>X</th>\n",
       "      <th>Y</th>\n",
       "      <th>Linear MNK</th>\n",
       "      <th>residuals of linear</th>\n",
       "      <th>X^2</th>\n",
       "      <th>Square MNK</th>\n",
       "      <th>residuals of square</th>\n",
       "    </tr>\n",
       "  </thead>\n",
       "  <tbody>\n",
       "    <tr>\n",
       "      <th>0</th>\n",
       "      <td>3.0</td>\n",
       "      <td>1.762747</td>\n",
       "      <td>1.888396</td>\n",
       "      <td>0.015788</td>\n",
       "      <td>9.0</td>\n",
       "      <td>1.784238</td>\n",
       "      <td>0.000462</td>\n",
       "    </tr>\n",
       "    <tr>\n",
       "      <th>1</th>\n",
       "      <td>4.0</td>\n",
       "      <td>2.063437</td>\n",
       "      <td>2.058839</td>\n",
       "      <td>0.000021</td>\n",
       "      <td>16.0</td>\n",
       "      <td>2.043960</td>\n",
       "      <td>0.000379</td>\n",
       "    </tr>\n",
       "    <tr>\n",
       "      <th>2</th>\n",
       "      <td>5.0</td>\n",
       "      <td>2.292432</td>\n",
       "      <td>2.229282</td>\n",
       "      <td>0.003988</td>\n",
       "      <td>25.0</td>\n",
       "      <td>2.273921</td>\n",
       "      <td>0.000343</td>\n",
       "    </tr>\n",
       "    <tr>\n",
       "      <th>3</th>\n",
       "      <td>6.0</td>\n",
       "      <td>2.477889</td>\n",
       "      <td>2.399725</td>\n",
       "      <td>0.006110</td>\n",
       "      <td>36.0</td>\n",
       "      <td>2.474124</td>\n",
       "      <td>0.000014</td>\n",
       "    </tr>\n",
       "    <tr>\n",
       "      <th>4</th>\n",
       "      <td>7.0</td>\n",
       "      <td>2.633916</td>\n",
       "      <td>2.570168</td>\n",
       "      <td>0.004064</td>\n",
       "      <td>49.0</td>\n",
       "      <td>2.644567</td>\n",
       "      <td>0.000113</td>\n",
       "    </tr>\n",
       "    <tr>\n",
       "      <th>5</th>\n",
       "      <td>8.0</td>\n",
       "      <td>2.768659</td>\n",
       "      <td>2.740611</td>\n",
       "      <td>0.000787</td>\n",
       "      <td>64.0</td>\n",
       "      <td>2.785250</td>\n",
       "      <td>0.000275</td>\n",
       "    </tr>\n",
       "    <tr>\n",
       "      <th>6</th>\n",
       "      <td>9.0</td>\n",
       "      <td>2.887271</td>\n",
       "      <td>2.911054</td>\n",
       "      <td>0.000566</td>\n",
       "      <td>81.0</td>\n",
       "      <td>2.896174</td>\n",
       "      <td>0.000079</td>\n",
       "    </tr>\n",
       "    <tr>\n",
       "      <th>7</th>\n",
       "      <td>10.0</td>\n",
       "      <td>2.993223</td>\n",
       "      <td>3.081497</td>\n",
       "      <td>0.007792</td>\n",
       "      <td>100.0</td>\n",
       "      <td>2.977339</td>\n",
       "      <td>0.000252</td>\n",
       "    </tr>\n",
       "  </tbody>\n",
       "</table>\n",
       "</div>"
      ],
      "text/plain": [
       "      X         Y  Linear MNK  residuals of linear    X^2  Square MNK  \\\n",
       "0   3.0  1.762747    1.888396             0.015788    9.0    1.784238   \n",
       "1   4.0  2.063437    2.058839             0.000021   16.0    2.043960   \n",
       "2   5.0  2.292432    2.229282             0.003988   25.0    2.273921   \n",
       "3   6.0  2.477889    2.399725             0.006110   36.0    2.474124   \n",
       "4   7.0  2.633916    2.570168             0.004064   49.0    2.644567   \n",
       "5   8.0  2.768659    2.740611             0.000787   64.0    2.785250   \n",
       "6   9.0  2.887271    2.911054             0.000566   81.0    2.896174   \n",
       "7  10.0  2.993223    3.081497             0.007792  100.0    2.977339   \n",
       "\n",
       "   residuals of square  \n",
       "0             0.000462  \n",
       "1             0.000379  \n",
       "2             0.000343  \n",
       "3             0.000014  \n",
       "4             0.000113  \n",
       "5             0.000275  \n",
       "6             0.000079  \n",
       "7             0.000252  "
      ]
     },
     "execution_count": 15,
     "metadata": {},
     "output_type": "execute_result"
    }
   ],
   "source": [
    "data"
   ]
  },
  {
   "cell_type": "markdown",
   "metadata": {},
   "source": [
    "#### Кубическая функция"
   ]
  },
  {
   "cell_type": "code",
   "execution_count": 16,
   "metadata": {},
   "outputs": [
    {
     "name": "stdout",
     "output_type": "stream",
     "text": [
      "a0 = 0.4514\n",
      "a1 = 0.5694\n",
      "a2 = -0.0490\n",
      "a3 = 0.0017\n"
     ]
    }
   ],
   "source": [
    "data['X^3'] = list(map(lambda x: x**3, data.X))\n",
    "mnk = MNK()\n",
    "coef = mnk.seek_coef(data[['X', 'X^2', 'X^3']].to_numpy(), data.Y).get_coef()\n",
    "print('a0 = %.4f' % coef[0])\n",
    "print('a1 = %.4f' % coef[1])\n",
    "print('a2 = %.4f' % coef[2])\n",
    "print('a3 = %.4f' % coef[3])"
   ]
  },
  {
   "cell_type": "code",
   "execution_count": 17,
   "metadata": {},
   "outputs": [
    {
     "data": {
      "image/png": "[encoded data removed]",
      "text/plain": [
       "<Figure size 432x288 with 1 Axes>"
      ]
     },
     "metadata": {
      "needs_background": "light"
     },
     "output_type": "display_data"
    }
   ],
   "source": [
    "plt.scatter(data.X, data.Y, label = 'f(x)', linewidths = 4)\n",
    "plt.plot(X, mnk.predict(data[['X', 'X^2', 'X^3']].to_numpy()), color = 'b', label = 'Cube MNK')\n",
    "plt.legend()\n",
    "plt.show()"
   ]
  },
  {
   "cell_type": "code",
   "execution_count": 18,
   "metadata": {},
   "outputs": [],
   "source": [
    "data['Cube MNK'] =  mnk.predict(data[['X', 'X^2', 'X^3']].to_numpy())\n",
    "data['residuals of cube'] = [(Y[i] - value)**2 for i, value in enumerate(data['Cube MNK'])]"
   ]
  },
  {
   "cell_type": "code",
   "execution_count": 19,
   "metadata": {},
   "outputs": [
    {
     "data": {
      "text/html": [
       "<div>\n",
       "<style scoped>\n",
       "    .dataframe tbody tr th:only-of-type {\n",
       "        vertical-align: middle;\n",
       "    }\n",
       "\n",
       "    .dataframe tbody tr th {\n",
       "        vertical-align: top;\n",
       "    }\n",
       "\n",
       "    .dataframe thead th {\n",
       "        text-align: right;\n",
       "    }\n",
       "</style>\n",
       "<table border=\"1\" class=\"dataframe\">\n",
       "  <thead>\n",
       "    <tr style=\"text-align: right;\">\n",
       "      <th></th>\n",
       "      <th>X</th>\n",
       "      <th>Y</th>\n",
       "      <th>Linear MNK</th>\n",
       "      <th>residuals of linear</th>\n",
       "      <th>X^2</th>\n",
       "      <th>Square MNK</th>\n",
       "      <th>residuals of square</th>\n",
       "      <th>X^3</th>\n",
       "      <th>Cube MNK</th>\n",
       "      <th>residuals of cube</th>\n",
       "    </tr>\n",
       "  </thead>\n",
       "  <tbody>\n",
       "    <tr>\n",
       "      <th>0</th>\n",
       "      <td>3.0</td>\n",
       "      <td>1.762747</td>\n",
       "      <td>1.888396</td>\n",
       "      <td>0.015788</td>\n",
       "      <td>9.0</td>\n",
       "      <td>1.784238</td>\n",
       "      <td>0.000462</td>\n",
       "      <td>27.0</td>\n",
       "      <td>1.765877</td>\n",
       "      <td>9.794134e-06</td>\n",
       "    </tr>\n",
       "    <tr>\n",
       "      <th>1</th>\n",
       "      <td>4.0</td>\n",
       "      <td>2.063437</td>\n",
       "      <td>2.058839</td>\n",
       "      <td>0.000021</td>\n",
       "      <td>16.0</td>\n",
       "      <td>2.043960</td>\n",
       "      <td>0.000379</td>\n",
       "      <td>64.0</td>\n",
       "      <td>2.057075</td>\n",
       "      <td>4.047869e-05</td>\n",
       "    </tr>\n",
       "    <tr>\n",
       "      <th>2</th>\n",
       "      <td>5.0</td>\n",
       "      <td>2.292432</td>\n",
       "      <td>2.229282</td>\n",
       "      <td>0.003988</td>\n",
       "      <td>25.0</td>\n",
       "      <td>2.273921</td>\n",
       "      <td>0.000343</td>\n",
       "      <td>125.0</td>\n",
       "      <td>2.292283</td>\n",
       "      <td>2.215000e-08</td>\n",
       "    </tr>\n",
       "    <tr>\n",
       "      <th>3</th>\n",
       "      <td>6.0</td>\n",
       "      <td>2.477889</td>\n",
       "      <td>2.399725</td>\n",
       "      <td>0.006110</td>\n",
       "      <td>36.0</td>\n",
       "      <td>2.474124</td>\n",
       "      <td>0.000014</td>\n",
       "      <td>216.0</td>\n",
       "      <td>2.481993</td>\n",
       "      <td>1.684590e-05</td>\n",
       "    </tr>\n",
       "    <tr>\n",
       "      <th>4</th>\n",
       "      <td>7.0</td>\n",
       "      <td>2.633916</td>\n",
       "      <td>2.570168</td>\n",
       "      <td>0.004064</td>\n",
       "      <td>49.0</td>\n",
       "      <td>2.644567</td>\n",
       "      <td>0.000113</td>\n",
       "      <td>343.0</td>\n",
       "      <td>2.636698</td>\n",
       "      <td>7.739423e-06</td>\n",
       "    </tr>\n",
       "    <tr>\n",
       "      <th>5</th>\n",
       "      <td>8.0</td>\n",
       "      <td>2.768659</td>\n",
       "      <td>2.740611</td>\n",
       "      <td>0.000787</td>\n",
       "      <td>64.0</td>\n",
       "      <td>2.785250</td>\n",
       "      <td>0.000275</td>\n",
       "      <td>512.0</td>\n",
       "      <td>2.766889</td>\n",
       "      <td>3.134081e-06</td>\n",
       "    </tr>\n",
       "    <tr>\n",
       "      <th>6</th>\n",
       "      <td>9.0</td>\n",
       "      <td>2.887271</td>\n",
       "      <td>2.911054</td>\n",
       "      <td>0.000566</td>\n",
       "      <td>81.0</td>\n",
       "      <td>2.896174</td>\n",
       "      <td>0.000079</td>\n",
       "      <td>729.0</td>\n",
       "      <td>2.883059</td>\n",
       "      <td>1.773946e-05</td>\n",
       "    </tr>\n",
       "    <tr>\n",
       "      <th>7</th>\n",
       "      <td>10.0</td>\n",
       "      <td>2.993223</td>\n",
       "      <td>3.081497</td>\n",
       "      <td>0.007792</td>\n",
       "      <td>100.0</td>\n",
       "      <td>2.977339</td>\n",
       "      <td>0.000252</td>\n",
       "      <td>1000.0</td>\n",
       "      <td>2.995700</td>\n",
       "      <td>6.137301e-06</td>\n",
       "    </tr>\n",
       "  </tbody>\n",
       "</table>\n",
       "</div>"
      ],
      "text/plain": [
       "      X         Y  Linear MNK  residuals of linear    X^2  Square MNK  \\\n",
       "0   3.0  1.762747    1.888396             0.015788    9.0    1.784238   \n",
       "1   4.0  2.063437    2.058839             0.000021   16.0    2.043960   \n",
       "2   5.0  2.292432    2.229282             0.003988   25.0    2.273921   \n",
       "3   6.0  2.477889    2.399725             0.006110   36.0    2.474124   \n",
       "4   7.0  2.633916    2.570168             0.004064   49.0    2.644567   \n",
       "5   8.0  2.768659    2.740611             0.000787   64.0    2.785250   \n",
       "6   9.0  2.887271    2.911054             0.000566   81.0    2.896174   \n",
       "7  10.0  2.993223    3.081497             0.007792  100.0    2.977339   \n",
       "\n",
       "   residuals of square     X^3  Cube MNK  residuals of cube  \n",
       "0             0.000462    27.0  1.765877       9.794134e-06  \n",
       "1             0.000379    64.0  2.057075       4.047869e-05  \n",
       "2             0.000343   125.0  2.292283       2.215000e-08  \n",
       "3             0.000014   216.0  2.481993       1.684590e-05  \n",
       "4             0.000113   343.0  2.636698       7.739423e-06  \n",
       "5             0.000275   512.0  2.766889       3.134081e-06  \n",
       "6             0.000079   729.0  2.883059       1.773946e-05  \n",
       "7             0.000252  1000.0  2.995700       6.137301e-06  "
      ]
     },
     "execution_count": 19,
     "metadata": {},
     "output_type": "execute_result"
    }
   ],
   "source": [
    "data"
   ]
  },
  {
   "cell_type": "markdown",
   "metadata": {},
   "source": [
    "Сумма квадратов невязок для каждого способа:"
   ]
  },
  {
   "cell_type": "code",
   "execution_count": 22,
   "metadata": {},
   "outputs": [
    {
     "data": {
      "text/html": [
       "<div>\n",
       "<style scoped>\n",
       "    .dataframe tbody tr th:only-of-type {\n",
       "        vertical-align: middle;\n",
       "    }\n",
       "\n",
       "    .dataframe tbody tr th {\n",
       "        vertical-align: top;\n",
       "    }\n",
       "\n",
       "    .dataframe thead th {\n",
       "        text-align: right;\n",
       "    }\n",
       "</style>\n",
       "<table border=\"1\" class=\"dataframe\">\n",
       "  <thead>\n",
       "    <tr style=\"text-align: right;\">\n",
       "      <th></th>\n",
       "      <th>Линейная функция</th>\n",
       "      <th>квадратичная функция</th>\n",
       "      <th>кубическая функция</th>\n",
       "    </tr>\n",
       "  </thead>\n",
       "  <tbody>\n",
       "    <tr>\n",
       "      <th>residuals</th>\n",
       "      <td>0.039115</td>\n",
       "      <td>0.001918</td>\n",
       "      <td>0.000102</td>\n",
       "    </tr>\n",
       "  </tbody>\n",
       "</table>\n",
       "</div>"
      ],
      "text/plain": [
       "           Линейная функция  квадратичная функция  кубическая функция\n",
       "residuals          0.039115              0.001918            0.000102"
      ]
     },
     "execution_count": 22,
     "metadata": {},
     "output_type": "execute_result"
    }
   ],
   "source": [
    "pd.DataFrame(columns = ['Линейная функция', 'квадратичная функция', 'кубическая функция'], \n",
    "             index = ['residuals'], \n",
    "             data = np.array([data['residuals of linear'].sum(),\n",
    "                              data['residuals of square'].sum(),\n",
    "                              data['residuals of cube'].sum()]).reshape((1, 3)))"
   ]
  },
  {
   "cell_type": "markdown",
   "metadata": {},
   "source": [
    "## Вывод:\n",
    "**С увеличением степени функции, для МНК, уменьшается сумма квадратов невязок. Также увеличивается точность аппроксимации функции, что видно  из графиков.**"
   ]
  },
  {
   "cell_type": "code",
   "execution_count": null,
   "metadata": {},
   "outputs": [],
   "source": []
  }
 ],
 "metadata": {
  "kernelspec": {
   "display_name": "Python 3",
   "language": "python",
   "name": "python3"
  },
  "language_info": {
   "codemirror_mode": {
    "name": "ipython",
    "version": 3
   },
   "file_extension": ".py",
   "mimetype": "text/x-python",
   "name": "python",
   "nbconvert_exporter": "python",
   "pygments_lexer": "ipython3",
   "version": "3.8.5"
  }
 },
 "nbformat": 4,
 "nbformat_minor": 4
}

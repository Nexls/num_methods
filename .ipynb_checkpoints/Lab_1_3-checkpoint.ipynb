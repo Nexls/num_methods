{
 "cells": [
  {
   "cell_type": "markdown",
   "metadata": {
    "id": "vJZJvEXcB1Zz"
   },
   "source": [
    "# Вариант 13 по журналу"
   ]
  },
  {
   "cell_type": "code",
   "execution_count": 1,
   "metadata": {
    "id": "G5MoqVnuBa5Q"
   },
   "outputs": [],
   "source": [
    "import numpy as np"
   ]
  },
  {
   "cell_type": "code",
   "execution_count": 2,
   "metadata": {
    "id": "SX4d9BHdB8Bl"
   },
   "outputs": [],
   "source": [
    "A1 = np.array([[1., -5., 0, 0],\n",
    "              [8., -4., -3., 0],\n",
    "              [0, -1, -9, 7],\n",
    "              [0, 0, 7, 1]])\n",
    "B1 = np.array([13., 92., 122., -49.])"
   ]
  },
  {
   "cell_type": "code",
   "execution_count": 3,
   "metadata": {
    "id": "kNl3iakKB9OB"
   },
   "outputs": [],
   "source": [
    "def forward_move(A, B):\n",
    "    \"\"\"\n",
    "    Прямой ход, вычиляем коэффициенты альфа и бета\n",
    "    \"\"\"\n",
    "    # Подготовим списки с нулями для дальнейшего заполнения\n",
    "    alpha = [0. for i in range(A.shape[0] - 1)]\n",
    "    beta = [0. for i in range(B.shape[0])]\n",
    "    \n",
    "    # Значения первых коэффициентов\n",
    "    alpha[0] = - A[0][1] / A[0][0]\n",
    "    beta[0] = B[0] / A[0][0]\n",
    "    \n",
    "    # Цикл для нахождения остальных коэффициентов\n",
    "    for i in range(1, A.shape[0] - 1):\n",
    "        alpha[i] = - A[i][i+1] / (A[i][i] + alpha[i-1] * A[i][i-1])\n",
    "        beta[i] = (B[i] - beta[i-1] * A[i][i-1]) / (A[i][i] + alpha[i-1] * A[i][i-1])\n",
    "    \n",
    "    # Остался последний коэфиициент бета\n",
    "    beta[A.shape[0] - 1] = (B[A.shape[0] - 1] - beta[A.shape[0] - 2] * A[A.shape[0] - 1][A.shape[0] - 2])\\\n",
    "                    / (A[A.shape[0] - 1][A.shape[0] - 1] + alpha[A.shape[0] - 2] * A[A.shape[0] - 1][A.shape[0] - 2])\n",
    "    return(alpha, beta)"
   ]
  },
  {
   "cell_type": "code",
   "execution_count": 4,
   "metadata": {
    "id": "cs7tQheUB-my"
   },
   "outputs": [],
   "source": [
    "def back_move(alpha, beta, A, B):\n",
    "    \"\"\"\n",
    "    Вычисляем СЛАУ обратным ходом\n",
    "    \"\"\"\n",
    "    # Список с решениями\n",
    "    y = [0 for i in range(A.shape[0])]\n",
    "    \n",
    "    # Последний коэффициент бета численно равен последнему корню\n",
    "    y[A.shape[0] - 1] = beta[A.shape[0] - 1]\n",
    "    \n",
    "    # Цикл для нахождения остальных корней\n",
    "    for i in range(A.shape[0] - 2, -1, -1):\n",
    "        y[i] = alpha[i] * y[i+1] + beta[i]\n",
    "    \n",
    "    # Красиво выведем решение\n",
    "    print('Alpha: ', alpha)\n",
    "    print('Beta: ', beta)\n",
    "    print('Корни СЛАУ:', y)"
   ]
  },
  {
   "cell_type": "code",
   "execution_count": 5,
   "metadata": {
    "id": "TGEORDLXCANd"
   },
   "outputs": [],
   "source": [
    "def run_forest_run(A, B):\n",
    "    \"\"\"\n",
    "    Функция для вывода решения по вводимой СЛАУ\n",
    "    \"\"\"\n",
    "    back_move(forward_move(A, B)[0],forward_move(A, B)[1], A, B)"
   ]
  },
  {
   "cell_type": "code",
   "execution_count": 6,
   "metadata": {
    "colab": {
     "base_uri": "https://localhost:8080/"
    },
    "id": "Wxvz2JueCCOq",
    "outputId": "812cbb23-7584-45e4-8d88-0ec462b6bd57"
   },
   "outputs": [
    {
     "name": "stdout",
     "output_type": "stream",
     "text": [
      "Alpha:  [5.0, 0.08333333333333333, 0.7706422018348623]\n",
      "Beta:  [13.0, -0.3333333333333333, -13.394495412844037, 7.000000000000001]\n",
      "Корни СЛАУ: [8.0, -1.0, -8.0, 7.000000000000001]\n"
     ]
    }
   ],
   "source": [
    "# Проверим работу функции\n",
    "run_forest_run(A1, B1)"
   ]
  }
 ],
 "metadata": {
  "colab": {
   "name": "Lab_1_3.ipynb",
   "provenance": []
  },
  "kernelspec": {
   "display_name": "Python 3",
   "language": "python",
   "name": "python3"
  },
  "language_info": {
   "codemirror_mode": {
    "name": "ipython",
    "version": 3
   },
   "file_extension": ".py",
   "mimetype": "text/x-python",
   "name": "python",
   "nbconvert_exporter": "python",
   "pygments_lexer": "ipython3",
   "version": "3.8.5"
  }
 },
 "nbformat": 4,
 "nbformat_minor": 1
}

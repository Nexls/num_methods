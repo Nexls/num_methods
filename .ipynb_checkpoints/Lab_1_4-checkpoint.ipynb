{
 "cells": [
  {
   "cell_type": "markdown",
   "metadata": {},
   "source": [
    "# Вариант 13"
   ]
  },
  {
   "cell_type": "code",
   "execution_count": 2,
   "metadata": {},
   "outputs": [],
   "source": [
    "import numpy as np\n",
    "from matplotlib import pyplot as plt"
   ]
  },
  {
   "cell_type": "code",
   "execution_count": 3,
   "metadata": {},
   "outputs": [],
   "source": [
    "plt.style.use(['seaborn-darkgrid'])\n",
    "plt.rcParams['figure.figsize'] = (8, 5)\n",
    "plt.rcParams['font.family'] = 'DejaVu Sans'"
   ]
  },
  {
   "cell_type": "code",
   "execution_count": 8,
   "metadata": {},
   "outputs": [],
   "source": [
    "def func_x(x):\n",
    "    return x**3 - 3*x + 1"
   ]
  },
  {
   "cell_type": "code",
   "execution_count": 9,
   "metadata": {},
   "outputs": [],
   "source": [
    "def derivative_function(x):\n",
    "    return 3*x*x - 3"
   ]
  },
  {
   "cell_type": "code",
   "execution_count": 10,
   "metadata": {},
   "outputs": [
    {
     "data": {
      "image/png": "[encoded data removed]",
      "text/plain": [
       "<Figure size 576x360 with 1 Axes>"
      ]
     },
     "metadata": {},
     "output_type": "display_data"
    }
   ],
   "source": [
    "x = np.linspace(-10, 10, 100)\n",
    "y = [function(i) for i in x]\n",
    "plt.plot(x, y)\n",
    "plt.title(\"$x^3 - 3x^2 + 1\");"
   ]
  },
  {
   "cell_type": "code",
   "execution_count": 19,
   "metadata": {},
   "outputs": [
    {
     "name": "stdout",
     "output_type": "stream",
     "text": [
      "X = 0.3469999999999781\n",
      "Количество итераций для нахождения корня: 3469\n"
     ]
    }
   ],
   "source": [
    "def simple_iter_method(er=0.001):\n",
    "    i = 0\n",
    "    step = er/10\n",
    "    x_new = step\n",
    "    x_old = 0\n",
    "    \n",
    "    while abs(func_x(x_new)) > er:\n",
    "        i += 1\n",
    "        delta_old = func_x(x_old)\n",
    "        delta_new = func_x(x_new)\n",
    "        if delta_new <= delta_old:\n",
    "            x_old = x_new\n",
    "            x_new = x_new + step\n",
    "        else:\n",
    "            x_new = x_old - step\n",
    "            \n",
    "    print('X =', x_new)\n",
    "    print('Количество итераций для нахождения корня:', i)\n",
    "\n",
    "simple_iter_method()"
   ]
  },
  {
   "cell_type": "code",
   "execution_count": 20,
   "metadata": {
    "scrolled": false
   },
   "outputs": [
    {
     "name": "stdout",
     "output_type": "stream",
     "text": [
      "X = -1.8792536410859915\n",
      "Количество итераций для нахождения корня: 195\n"
     ]
    }
   ],
   "source": [
    "def secant_method(x_left, x_right, er=0.001):\n",
    "    i = 0\n",
    "\n",
    "    # Проверка промежутка на наличие корней\n",
    "    if func_x(x_left) / func_x(x_right) > 0:\n",
    "        return ('Корней в заданном промежутке не найдено')\n",
    "    else:\n",
    "        # первое приближение\n",
    "        x_new = x_right - (x_right - x_left) * func_x(x_right) / (func_x(x_right) - func_x(x_left))\n",
    "        while abs(func_x(x_new)) > er:\n",
    "            i += 1\n",
    "        # не проскакиваем корень\n",
    "            if func_x(x_new) / func_x(x_left) < 0:\n",
    "                x_right = x_new\n",
    "                x_new = x_right - (x_right - x_left) * func_x(x_right) / (func_x(x_right) - func_x(x_left))\n",
    "            else:\n",
    "                x_left = x_new\n",
    "                x_new = x_right - (x_right - x_left) * func_x(x_right) / (func_x(x_right) - func_x(x_left))\n",
    "      \n",
    "        # Вывод результата\n",
    "        print('X =', x_new)\n",
    "        print('Количество итераций для нахождения корня:', i)\n",
    "        \n",
    "secant_method(-10, 10)"
   ]
  },
  {
   "cell_type": "code",
   "execution_count": null,
   "metadata": {},
   "outputs": [],
   "source": []
  }
 ],
 "metadata": {
  "kernelspec": {
   "display_name": "Python 3",
   "language": "python",
   "name": "python3"
  },
  "language_info": {
   "codemirror_mode": {
    "name": "ipython",
    "version": 3
   },
   "file_extension": ".py",
   "mimetype": "text/x-python",
   "name": "python",
   "nbconvert_exporter": "python",
   "pygments_lexer": "ipython3",
   "version": "3.8.5"
  }
 },
 "nbformat": 4,
 "nbformat_minor": 4
}

{
 "cells": [
  {
   "cell_type": "markdown",
   "metadata": {
    "id": "vJBGrgOV_Up7"
   },
   "source": [
    "# Вариант 13 по журналу"
   ]
  },
  {
   "cell_type": "code",
   "execution_count": 10,
   "metadata": {
    "id": "hOGxS8F3-frm"
   },
   "outputs": [],
   "source": [
    "import numpy as np"
   ]
  },
  {
   "cell_type": "code",
   "execution_count": 11,
   "metadata": {
    "id": "0Hrkbb-w-6IP"
   },
   "outputs": [],
   "source": [
    "a = [[1,2,3],\n",
    "     [1,4,2]]"
   ]
  },
  {
   "cell_type": "code",
   "execution_count": 12,
   "metadata": {
    "id": "E8qdmyVY-7ja"
   },
   "outputs": [],
   "source": [
    "# Четырехмерная матрица\n",
    "A1 = np.array([[-3., -2., -4., 3.],\n",
    "              [-2., -4., -5., -5.],\n",
    "              [0, 2., 2., -4.],\n",
    "              [-5., 4., 4., 4.]])\n",
    "\n",
    "B1 = np.array([38., 10., -26., 16.])"
   ]
  },
  {
   "cell_type": "code",
   "execution_count": 13,
   "metadata": {
    "id": "sFYbRTmC_B6W"
   },
   "outputs": [],
   "source": [
    "A2 = np.array([[-2., -3., 1., -4., -1.],\n",
    "              [2., 4., -3., -5., 2.],\n",
    "              [2., 0, -2., -3., 3.],\n",
    "              [-3., -4., -1., -1., 4.],\n",
    "              [4., -2., 1., -3., -4.]])\n",
    "\n",
    "B2 = np.array([25., 32., 30., -23., -16.])"
   ]
  },
  {
   "cell_type": "code",
   "execution_count": 14,
   "metadata": {
    "id": "DBSwb-k9_ZjW"
   },
   "outputs": [],
   "source": [
    "def print_iteration(A,B):\n",
    "    for i in range(A.shape[0]):\n",
    "        print(A[i],'|=|',B[i])"
   ]
  },
  {
   "cell_type": "code",
   "execution_count": 15,
   "metadata": {
    "colab": {
     "base_uri": "https://localhost:8080/"
    },
    "id": "D5f27zya_bl4",
    "outputId": "e1318360-39cb-44f2-980e-119804758883"
   },
   "outputs": [
    {
     "name": "stdout",
     "output_type": "stream",
     "text": [
      "[-3. -2. -4.  3.] |=| 38.0\n",
      "[-2. -4. -5. -5.] |=| 10.0\n",
      "[ 0.  2.  2. -4.] |=| -26.0\n",
      "[-5.  4.  4.  4.] |=| 16.0\n"
     ]
    }
   ],
   "source": [
    "print_iteration(A1,B1)"
   ]
  },
  {
   "cell_type": "code",
   "execution_count": 16,
   "metadata": {
    "id": "niFsXs6P_dIp"
   },
   "outputs": [],
   "source": [
    "def to_triangle(A,B):\n",
    "    for i in range(A.shape[0] - 1):\n",
    "        denominator = A[i][i]\n",
    "        if denominator == 0:\n",
    "            continue\n",
    "        A[i] = A[i] / denominator\n",
    "        B[i] = B[i] / denominator\n",
    "\n",
    "        for k in range(A.shape[0] - 1, i, -1):\n",
    "            B[k] = B[k] - A[k][i] * B[i]\n",
    "            A[k] = A[k] - A[k][i] * A[i]\n",
    "        print_iteration(A,B)\n",
    "        print('----------------')\n",
    "    return A, B\n",
    "\n",
    "\n",
    "def find_roots(A,B):\n",
    "    X = [0. for i in range(B.shape[0])]\n",
    "\n",
    "    for i in range(B.shape[0] - 1, -1, -1):\n",
    "        X[i] = ((B[i] - sum(X * A[i])) / A[i][i]).round()\n",
    "    print('Найденные корни:')\n",
    "    return X\n",
    "\n",
    "\n",
    "def Gauss_method(A, B):\n",
    "    triangle_form = to_triangle(A,B)\n",
    "    return find_roots(triangle_form[0],triangle_form[1])"
   ]
  },
  {
   "cell_type": "code",
   "execution_count": 17,
   "metadata": {
    "colab": {
     "base_uri": "https://localhost:8080/"
    },
    "id": "HnRV3hgl_mH3",
    "outputId": "c4da444e-dd71-48bc-dd27-10ae90654f00"
   },
   "outputs": [
    {
     "name": "stdout",
     "output_type": "stream",
     "text": [
      "[ 1.          0.66666667  1.33333333 -1.        ] |=| -12.666666666666666\n",
      "[ 0.         -2.66666667 -2.33333333 -7.        ] |=| -15.333333333333332\n",
      "[ 0.  2.  2. -4.] |=| -26.0\n",
      "[ 0.          7.33333333 10.66666667 -1.        ] |=| -47.33333333333333\n",
      "----------------\n",
      "[ 1.          0.66666667  1.33333333 -1.        ] |=| -12.666666666666666\n",
      "[-0.     1.     0.875  2.625] |=| 5.749999999999999\n",
      "[ 0.    0.    0.25 -9.25] |=| -37.5\n",
      "[  0.     0.     4.25 -20.25] |=| -89.49999999999999\n",
      "----------------\n",
      "[ 1.          0.66666667  1.33333333 -1.        ] |=| -12.666666666666666\n",
      "[-0.     1.     0.875  2.625] |=| 5.749999999999999\n",
      "[  0.   0.   1. -37.] |=| -150.0\n",
      "[  0.   0.   0. 137.] |=| 548.0\n",
      "----------------\n",
      "Найденные корни:\n"
     ]
    },
    {
     "data": {
      "text/plain": [
       "[-4.0, -3.0, -2.0, 4.0]"
      ]
     },
     "execution_count": 17,
     "metadata": {},
     "output_type": "execute_result"
    }
   ],
   "source": [
    "Gauss_method(A1, B1)"
   ]
  },
  {
   "cell_type": "code",
   "execution_count": 18,
   "metadata": {
    "colab": {
     "base_uri": "https://localhost:8080/"
    },
    "id": "3qyyLvvF_nU3",
    "outputId": "a3a0b900-9ba3-48ce-e01a-167349740c25"
   },
   "outputs": [
    {
     "name": "stdout",
     "output_type": "stream",
     "text": [
      "[ 1.   1.5 -0.5  2.   0.5] |=| -12.5\n",
      "[ 0.  1. -2. -9.  1.] |=| 57.0\n",
      "[ 0. -3. -1. -7.  2.] |=| 55.0\n",
      "[ 0.   0.5 -2.5  5.   5.5] |=| -60.5\n",
      "[  0.  -8.   3. -11.  -6.] |=| 34.0\n",
      "----------------\n",
      "[ 1.   1.5 -0.5  2.   0.5] |=| -12.5\n",
      "[ 0.  1. -2. -9.  1.] |=| 57.0\n",
      "[  0.   0.  -7. -34.   5.] |=| 226.0\n",
      "[ 0.   0.  -1.5  9.5  5. ] |=| -89.0\n",
      "[  0.   0. -13. -83.   2.] |=| 490.0\n",
      "----------------\n",
      "[ 1.   1.5 -0.5  2.   0.5] |=| -12.5\n",
      "[ 0.  1. -2. -9.  1.] |=| 57.0\n",
      "[-0.         -0.          1.          4.85714286 -0.71428571] |=| -32.285714285714285\n",
      "[ 0.          0.          0.         16.78571429  3.92857143] |=| -137.42857142857144\n",
      "[  0.           0.           0.         -19.85714286  -7.28571429] |=| 70.28571428571428\n",
      "----------------\n",
      "[ 1.   1.5 -0.5  2.   0.5] |=| -12.5\n",
      "[ 0.  1. -2. -9.  1.] |=| 57.0\n",
      "[-0.         -0.          1.          4.85714286 -0.71428571] |=| -32.285714285714285\n",
      "[0.         0.         0.         1.         0.23404255] |=| -8.187234042553193\n",
      "[ 0.          0.          0.          0.         -2.63829787] |=| -92.28936170212774\n",
      "----------------\n",
      "Найденные корни:\n"
     ]
    },
    {
     "data": {
      "text/plain": [
       "[10.0, 18.0, 70.0, -16.0, 35.0]"
      ]
     },
     "execution_count": 18,
     "metadata": {},
     "output_type": "execute_result"
    }
   ],
   "source": [
    "Gauss_method(A2, B2)"
   ]
  }
 ],
 "metadata": {
  "colab": {
   "name": "Lab_1_2.ipynb",
   "provenance": []
  },
  "kernelspec": {
   "display_name": "Python 3",
   "language": "python",
   "name": "python3"
  },
  "language_info": {
   "codemirror_mode": {
    "name": "ipython",
    "version": 3
   },
   "file_extension": ".py",
   "mimetype": "text/x-python",
   "name": "python",
   "nbconvert_exporter": "python",
   "pygments_lexer": "ipython3",
   "version": "3.8.5"
  }
 },
 "nbformat": 4,
 "nbformat_minor": 1
}

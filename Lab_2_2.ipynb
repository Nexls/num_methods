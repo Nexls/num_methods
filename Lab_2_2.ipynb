{
 "cells": [
  {
   "cell_type": "markdown",
   "metadata": {},
   "source": [
    "## Вариант 13"
   ]
  },
  {
   "cell_type": "code",
   "execution_count": 2,
   "metadata": {},
   "outputs": [
    {
     "name": "stdout",
     "output_type": "stream",
     "text": [
      "Populating the interactive namespace from numpy and matplotlib\n"
     ]
    }
   ],
   "source": [
    "import pandas as pd\n",
    "import numpy as np\n",
    "from matplotlib import pyplot as plt\n",
    "%pylab inline"
   ]
  },
  {
   "cell_type": "markdown",
   "metadata": {},
   "source": [
    "Нужно создать алгоритм построения интерполяционных сплайнов. \n",
    "\n",
    "Для проверки работоспособности программы требуется для той же функции 𝑓(𝑥),\n",
    "что и в работе 2.1, задав отрезок [𝑎, 𝑏] из крайних точек, выбирая промежуточные точки с\n",
    "шагом $ℎ=\\frac{a - b}{N}$ \n",
    "\n",
    "𝑁 задано, построить следующие интерполяционные сплайны:\n",
    " - Линейный\n",
    " - Квадратичный с граничным условием $𝑓^\\prime(𝑎) = 0$\n",
    " - Квадратичный с граничным условием $𝑓^\\prime(b) = 0$\n",
    " - Кубический с граничными условиями $𝑓^{\\prime\\prime}(𝑎) = 𝑓^{\\prime\\prime}(b) = 0$"
   ]
  },
  {
   "cell_type": "markdown",
   "metadata": {},
   "source": [
    "Построим график заданной функции на участке от 0 до 1:"
   ]
  },
  {
   "cell_type": "code",
   "execution_count": 4,
   "metadata": {},
   "outputs": [
    {
     "data": {
      "text/plain": [
       "<Figure size 720x432 with 0 Axes>"
      ]
     },
     "metadata": {},
     "output_type": "display_data"
    },
    {
     "data": {
      "image/png": "[encoded data removed]",
      "text/plain": [
       "<Figure size 720x432 with 1 Axes>"
      ]
     },
     "metadata": {
      "needs_background": "light"
     },
     "output_type": "display_data"
    }
   ],
   "source": [
    "plt.figure(figsize=(10,6))\n",
    "x = np.linspace(3, 10, 100)\n",
    "y = np.log(x+(x*x-1)**0.5)\n",
    "\n",
    "plt.figure(figsize=(10,6))\n",
    "plt.plot(x, y);"
   ]
  },
  {
   "cell_type": "markdown",
   "metadata": {},
   "source": [
    "Массив опорных точек по которому нужно восстановить функцию:"
   ]
  },
  {
   "cell_type": "markdown",
   "metadata": {},
   "source": [
    "#### N = 10"
   ]
  },
  {
   "cell_type": "code",
   "execution_count": 74,
   "metadata": {},
   "outputs": [],
   "source": [
    "X = np.array([3, 4, 5, 6, 7, 8, 9, 10])\n",
    "\n",
    "x = np.linspace(3, 10, 100)\n",
    "Y = np.log(X+(X*X-1)**0.5)"
   ]
  },
  {
   "cell_type": "code",
   "execution_count": 75,
   "metadata": {},
   "outputs": [
    {
     "data": {
      "text/html": [
       "<div>\n",
       "<style scoped>\n",
       "    .dataframe tbody tr th:only-of-type {\n",
       "        vertical-align: middle;\n",
       "    }\n",
       "\n",
       "    .dataframe tbody tr th {\n",
       "        vertical-align: top;\n",
       "    }\n",
       "\n",
       "    .dataframe thead th {\n",
       "        text-align: right;\n",
       "    }\n",
       "</style>\n",
       "<table border=\"1\" class=\"dataframe\">\n",
       "  <thead>\n",
       "    <tr style=\"text-align: right;\">\n",
       "      <th></th>\n",
       "      <th>x</th>\n",
       "      <th>f(x)</th>\n",
       "    </tr>\n",
       "  </thead>\n",
       "  <tbody>\n",
       "    <tr>\n",
       "      <th>0</th>\n",
       "      <td>3.0</td>\n",
       "      <td>1.762747</td>\n",
       "    </tr>\n",
       "    <tr>\n",
       "      <th>1</th>\n",
       "      <td>4.0</td>\n",
       "      <td>2.063437</td>\n",
       "    </tr>\n",
       "    <tr>\n",
       "      <th>2</th>\n",
       "      <td>5.0</td>\n",
       "      <td>2.292432</td>\n",
       "    </tr>\n",
       "    <tr>\n",
       "      <th>3</th>\n",
       "      <td>6.0</td>\n",
       "      <td>2.477889</td>\n",
       "    </tr>\n",
       "    <tr>\n",
       "      <th>4</th>\n",
       "      <td>7.0</td>\n",
       "      <td>2.633916</td>\n",
       "    </tr>\n",
       "  </tbody>\n",
       "</table>\n",
       "</div>"
      ],
      "text/plain": [
       "     x      f(x)\n",
       "0  3.0  1.762747\n",
       "1  4.0  2.063437\n",
       "2  5.0  2.292432\n",
       "3  6.0  2.477889\n",
       "4  7.0  2.633916"
      ]
     },
     "execution_count": 75,
     "metadata": {},
     "output_type": "execute_result"
    }
   ],
   "source": [
    "data = pd.DataFrame(columns = ['x', 'f(x)'],\n",
    "            data = np.array([X, Y]).T)\n",
    "# выведем несколько точек\n",
    "data.head()"
   ]
  },
  {
   "cell_type": "code",
   "execution_count": 76,
   "metadata": {},
   "outputs": [],
   "source": [
    "L, F = [], []\n",
    "for i in range(data.x.shape[0] - 1):\n",
    "    L.append((data['f(x)'][i] - data['f(x)'][i + 1]) / (data['x'][i] - data['x'][i + 1]))\n",
    "    F.append(data['f(x)'][i] - data['x'][i] * (data['f(x)'][i] - data['f(x)'][i + 1]) / (data['x'][i] - data['x'][i + 1]))"
   ]
  },
  {
   "cell_type": "code",
   "execution_count": 77,
   "metadata": {},
   "outputs": [],
   "source": [
    "def linear_function(i, x, L, F):\n",
    "    return L[i] * x + F[i] "
   ]
  },
  {
   "cell_type": "code",
   "execution_count": 78,
   "metadata": {},
   "outputs": [
    {
     "data": {
      "image/png": "[encoded data removed]",
      "text/plain": [
       "<Figure size 720x432 with 1 Axes>"
      ]
     },
     "metadata": {
      "needs_background": "light"
     },
     "output_type": "display_data"
    }
   ],
   "source": [
    "s = []\n",
    "for i in range(data.x.shape[0]):\n",
    "    if i == 0 or i == 1:\n",
    "        s.append(linear_function(0, data.x[i], L, F))\n",
    "    else:\n",
    "        s.append(linear_function(i - 1, data.x[i], L, F))\n",
    "\n",
    "plt.figure(figsize=(10,6))\n",
    "plt.plot(data.x.iloc[:10], s, color = 'b')\n",
    "plt.scatter(data['x'].iloc[:10], data['f(x)'].iloc[:10], linewidths = 4);"
   ]
  },
  {
   "cell_type": "code",
   "execution_count": 79,
   "metadata": {},
   "outputs": [
    {
     "name": "stdout",
     "output_type": "stream",
     "text": [
      "{ 3.0000 4.0000 }:  0.3007 * x +  0.8607\n",
      "{ 4.0000 5.0000 }:  0.2290 * x +  1.1475\n",
      "{ 5.0000 6.0000 }:  0.1855 * x +  1.3651\n",
      "{ 6.0000 7.0000 }:  0.1560 * x +  1.5417\n",
      "{ 7.0000 8.0000 }:  0.1347 * x +  1.6907\n",
      "{ 8.0000 9.0000 }:  0.1186 * x +  1.8198\n",
      "{ 9.0000 10.0000 }:  0.1060 * x +  1.9337\n"
     ]
    }
   ],
   "source": [
    "for i in range(data.x.shape[0] - 1):\n",
    "    print('{ %.4f' % data.x[i], '%.4f' % data.x[i + 1], '}: ',\n",
    "          '%.4f' % L[i], '* x + ', '%.4f' % F[i])"
   ]
  },
  {
   "cell_type": "markdown",
   "metadata": {},
   "source": [
    "#### N = 50"
   ]
  },
  {
   "cell_type": "code",
   "execution_count": 80,
   "metadata": {},
   "outputs": [],
   "source": [
    "def linear_interp(N):\n",
    "    X = np.linspace(3, 10, N)\n",
    "    Y = np.log(X+(X*X-1)**0.5)\n",
    "    data = pd.DataFrame(columns = ['x', 'f(x)'],\n",
    "            data = np.array([X, Y]).T)\n",
    "    \n",
    "    L, F = [], []\n",
    "    for i in range(data.x.shape[0] - 1):\n",
    "        L.append((data['f(x)'][i] - data['f(x)'][i + 1]) / (data['x'][i] - data['x'][i + 1]))\n",
    "        F.append(data['f(x)'][i] - data['x'][i] * (data['f(x)'][i] - data['f(x)'][i + 1]) / (data['x'][i] - data['x'][i + 1]))\n",
    "        \n",
    "    s = []\n",
    "    for i in range(data.x.shape[0]):\n",
    "        if i == 0 or i == 1:\n",
    "            s.append(linear_function(0, data.x[i], L, F))\n",
    "        else:\n",
    "            s.append(linear_function(i - 1, data.x[i], L, F))\n",
    "            \n",
    "    plt.figure(figsize=(10,6))\n",
    "    plt.plot(data.x, s, color = 'b')\n",
    "    plt.scatter(data['x'], data['f(x)']);\n",
    "    \n",
    "    for i in range(data.x.shape[0] - 1):\n",
    "        print('{ %.4f' % data.x[i], '%.4f' % data.x[i + 1], '}: ', '%.4f' % L[i], '* x + ', '%.4f' % F[i])"
   ]
  },
  {
   "cell_type": "code",
   "execution_count": 81,
   "metadata": {
    "scrolled": false
   },
   "outputs": [
    {
     "name": "stdout",
     "output_type": "stream",
     "text": [
      "{ 3.0000 3.1429 }:  0.3444 * x +  0.7295\n",
      "{ 3.1429 3.2857 }:  0.3274 * x +  0.7829\n",
      "{ 3.2857 3.4286 }:  0.3121 * x +  0.8333\n",
      "{ 3.4286 3.5714 }:  0.2982 * x +  0.8809\n",
      "{ 3.5714 3.7143 }:  0.2855 * x +  0.9262\n",
      "{ 3.7143 3.8571 }:  0.2739 * x +  0.9693\n",
      "{ 3.8571 4.0000 }:  0.2632 * x +  1.0104\n",
      "{ 4.0000 4.1429 }:  0.2534 * x +  1.0498\n",
      "{ 4.1429 4.2857 }:  0.2443 * x +  1.0876\n",
      "{ 4.2857 4.4286 }:  0.2358 * x +  1.1239\n",
      "{ 4.4286 4.5714 }:  0.2279 * x +  1.1588\n",
      "{ 4.5714 4.7143 }:  0.2206 * x +  1.1924\n",
      "{ 4.7143 4.8571 }:  0.2137 * x +  1.2249\n",
      "{ 4.8571 5.0000 }:  0.2072 * x +  1.2563\n",
      "{ 5.0000 5.1429 }:  0.2011 * x +  1.2867\n",
      "{ 5.1429 5.2857 }:  0.1954 * x +  1.3161\n",
      "{ 5.2857 5.4286 }:  0.1900 * x +  1.3447\n",
      "{ 5.4286 5.5714 }:  0.1849 * x +  1.3724\n",
      "{ 5.5714 5.7143 }:  0.1801 * x +  1.3994\n",
      "{ 5.7143 5.8571 }:  0.1755 * x +  1.4256\n",
      "{ 5.8571 6.0000 }:  0.1711 * x +  1.4511\n",
      "{ 6.0000 6.1429 }:  0.1670 * x +  1.4759\n",
      "{ 6.1429 6.2857 }:  0.1631 * x +  1.5001\n",
      "{ 6.2857 6.4286 }:  0.1593 * x +  1.5238\n",
      "{ 6.4286 6.5714 }:  0.1557 * x +  1.5468\n",
      "{ 6.5714 6.7143 }:  0.1523 * x +  1.5693\n",
      "{ 6.7143 6.8571 }:  0.1490 * x +  1.5914\n",
      "{ 6.8571 7.0000 }:  0.1459 * x +  1.6129\n",
      "{ 7.0000 7.1429 }:  0.1429 * x +  1.6339\n",
      "{ 7.1429 7.2857 }:  0.1400 * x +  1.6545\n",
      "{ 7.2857 7.4286 }:  0.1372 * x +  1.6747\n",
      "{ 7.4286 7.5714 }:  0.1345 * x +  1.6945\n",
      "{ 7.5714 7.7143 }:  0.1320 * x +  1.7139\n",
      "{ 7.7143 7.8571 }:  0.1295 * x +  1.7329\n",
      "{ 7.8571 8.0000 }:  0.1271 * x +  1.7515\n",
      "{ 8.0000 8.1429 }:  0.1249 * x +  1.7698\n",
      "{ 8.1429 8.2857 }:  0.1227 * x +  1.7877\n",
      "{ 8.2857 8.4286 }:  0.1205 * x +  1.8054\n",
      "{ 8.4286 8.5714 }:  0.1185 * x +  1.8227\n",
      "{ 8.5714 8.7143 }:  0.1165 * x +  1.8397\n",
      "{ 8.7143 8.8571 }:  0.1146 * x +  1.8564\n",
      "{ 8.8571 9.0000 }:  0.1127 * x +  1.8729\n",
      "{ 9.0000 9.1429 }:  0.1109 * x +  1.8890\n",
      "{ 9.1429 9.2857 }:  0.1092 * x +  1.9050\n",
      "{ 9.2857 9.4286 }:  0.1075 * x +  1.9206\n",
      "{ 9.4286 9.5714 }:  0.1059 * x +  1.9360\n",
      "{ 9.5714 9.7143 }:  0.1043 * x +  1.9512\n",
      "{ 9.7143 9.8571 }:  0.1027 * x +  1.9661\n",
      "{ 9.8571 10.0000 }:  0.1012 * x +  1.9809\n"
     ]
    },
    {
     "data": {
      "image/png": "[encoded data removed]",
      "text/plain": [
       "<Figure size 720x432 with 1 Axes>"
      ]
     },
     "metadata": {
      "needs_background": "light"
     },
     "output_type": "display_data"
    }
   ],
   "source": [
    "linear_interp(50)"
   ]
  },
  {
   "cell_type": "markdown",
   "metadata": {},
   "source": [
    "#### Квадратичный сплайн слева"
   ]
  },
  {
   "cell_type": "code",
   "execution_count": 82,
   "metadata": {},
   "outputs": [],
   "source": [
    "from sympy import *\n",
    "x = symbols('x')\n",
    "y = ln(x+(x*x-1)**0.5)"
   ]
  },
  {
   "cell_type": "code",
   "execution_count": 83,
   "metadata": {},
   "outputs": [],
   "source": [
    "def left_square_interp(y, ab, N):\n",
    "    xi = []\n",
    "    yi = []\n",
    "    a = ab[0]\n",
    "    b = ab[1]\n",
    "    h = (b - a) / N\n",
    "    while a < b:\n",
    "        xi.append(a)\n",
    "        yi.append(y.evalf(subs={'x': a}))\n",
    "        a += h\n",
    "    if round(a - h, 5) != b:\n",
    "        xi.append(b)\n",
    "        yi.append(y.evalf(subs={'x': a}))\n",
    "\n",
    "    const = [[] for i in range(N)]\n",
    "    for i in range(N):\n",
    "        A = numpy.array([[1, xi[i], xi[i] ** 2], [1, xi[i + 1], xi[i + 1] ** 2], [0, 1, 2 * xi[i]]])\n",
    "        if i == 0: a = numpy.array([yi[i], yi[i + 1], 0])\n",
    "        else: a = numpy.array([yi[i], yi[i + 1], const[i - 1][1] + 2 * const[i - 1][2] * xi[i]])\n",
    "        for j in np.linalg.solve(A, a.astype(float64)): const[i].append(float(j))\n",
    "\n",
    "\n",
    "    yn = {}\n",
    "    for i in range(N):\n",
    "        yn[xi[i], xi[i + 1]] = const[i][0] + const[i][1] * x + const[i][2] * x ** 2\n",
    "        \n",
    "    return yn"
   ]
  },
  {
   "cell_type": "markdown",
   "metadata": {},
   "source": [
    "#### N = 10"
   ]
  },
  {
   "cell_type": "code",
   "execution_count": 84,
   "metadata": {},
   "outputs": [],
   "source": [
    "interp = left_square_interp(y, [3, 10], 10)"
   ]
  },
  {
   "cell_type": "code",
   "execution_count": 85,
   "metadata": {},
   "outputs": [
    {
     "name": "stdout",
     "output_type": "stream",
     "text": [
      "{ 3.0000 , 3.7000 } :  0.448877082943096*x**2 - 2.69326249765858*x + 5.80264092052695\n",
      "{ 3.7000 , 4.4000 } :  -0.532684785714558*x**2 + 4.57029533040806*x - 7.63494106139633\n",
      "{ 4.4000 , 5.1000 } :  0.47588780959131*x**2 - 4.30514350828358*x + 11.8910243837253\n",
      "{ 5.1000 , 5.8000 } :  -0.517109578802075*x**2 + 5.82342985332896*x - 13.9368376883867\n",
      "{ 5.8000 , 6.5000 } :  0.485752305207634*x**2 - 5.80976800118367*x + 19.7994360896999\n",
      "{ 6.5000 , 7.2000 } :  -0.510442738229758*x**2 + 7.14076756350243*x - 22.2898044955299\n",
      "{ 7.2000 , 7.9000 } :  0.490479552994798*x**2 - 7.27251343013118*x + 29.5980070815511\n",
      "{ 7.9000 , 8.6000 } :  -0.506964145354636*x**2 + 8.48709700378988*x - 32.6524541324371\n",
      "{ 8.6000 , 9.3000 } :  0.493116239118366*x**2 - 8.71428560914576*x + 41.3134911031862\n",
      "{ 9.3000 , 10.0000 } :  -0.504916571981196*x**2 + 9.84912467730609*x - 45.0063667288149\n"
     ]
    }
   ],
   "source": [
    "for key, value in zip(interp.keys(), interp.values()):\n",
    "    print('{ %.4f' % key[0], ', %.4f' % key[1], '} : ', value)"
   ]
  },
  {
   "cell_type": "code",
   "execution_count": 86,
   "metadata": {},
   "outputs": [
    {
     "data": {
      "image/png": "[encoded data removed]",
      "text/plain": [
       "<Figure size 432x288 with 1 Axes>"
      ]
     },
     "metadata": {
      "needs_background": "light"
     },
     "output_type": "display_data"
    }
   ],
   "source": [
    "p = plot(y, (x, 3, 10), show=False)\n",
    "for i, j in left_square_interp(y, [3, 10], 10):\n",
    "    p.extend(plot(left_square_interp(y, [3, 10], 10)[i, j], (x, i, j), line_color='r', show=False))\n",
    "p.show()        "
   ]
  },
  {
   "cell_type": "markdown",
   "metadata": {},
   "source": [
    "#### N = 50"
   ]
  },
  {
   "cell_type": "code",
   "execution_count": 87,
   "metadata": {},
   "outputs": [],
   "source": [
    "interp = left_square_interp(y, [3, 10], 50)"
   ]
  },
  {
   "cell_type": "code",
   "execution_count": 89,
   "metadata": {},
   "outputs": [
    {
     "name": "stdout",
     "output_type": "stream",
     "text": [
      "{ 3.0000 , 3.1400 } :  2.46143749291371*x**2 - 14.7686249574823*x + 23.9156846102625\n",
      "{ 3.1400 , 3.2800 } :  -2.58067841635164*x**2 + 16.8958629527041*x - 25.7975614087302\n",
      "{ 3.2800 , 3.4200 } :  2.47294398873031*x**2 - 16.2559000246335*x + 28.5713298741035\n",
      "{ 3.4200 , 3.5600 } :  -2.57081658555779*x**2 + 18.2434223034972*x - 30.4225113069999\n",
      "{ 3.5600 , 3.7000 } :  2.48146836483727*x**2 - 17.7288465433157*x + 33.608127240327\n",
      "{ 3.7000 , 3.8400 } :  -2.56339235958632*x**2 + 19.6031228174189*x - 35.4560160770319\n",
      "{ 3.8400 , 3.9800 } :  2.48797836906932*x**2 - 19.1914043786564*x + 39.0294761394326\n",
      "{ 3.9800 , 4.1200 } :  -2.55764904379088*x**2 + 20.9717898277108*x - 40.8952803312381\n",
      "{ 4.1200 , 4.2600 } :  2.49307340321965*x**2 - 20.646163135656*x + 44.8377027732975\n",
      "{ 4.2600 , 4.4000 } :  -2.55310627934045*x**2 + 22.3472877597561*x - 46.7383476339302\n",
      "{ 4.4000 , 4.5400 } :  2.49714247995442*x**2 - 22.0949013220388*x + 51.0344683460184\n",
      "{ 4.5400 , 4.6800 } :  -2.5494460251033*x**2 + 23.7281223038853*x - 52.9837952848292\n",
      "{ 4.6800 , 4.8200 } :  2.50044787267981*x**2 - 23.5388845793646*x + 57.6210008219756\n",
      "{ 4.8200 , 4.9600 } :  -2.5464502819427*x**2 + 25.1132136311964*x - 59.6305558654765\n",
      "{ 4.9600 , 5.1000 } :  2.50317209834048*x**2 - 24.9790403812127*x + 64.5982340852981\n",
      "{ 5.1000 , 5.2400 } :  -2.54396521611213*x**2 + 26.5017602262039*x - 66.6778074636141\n",
      "{ 5.2400 , 5.3800 } :  2.50544561795112*x**2 - 26.416065314779*x + 71.9668954537609\n",
      "{ 5.3800 , 5.5200 } :  -2.54187955311993*x**2 + 27.8931535259454*x - 74.1249032277878\n",
      "{ 5.5200 , 5.6600 } :  2.50736384770499*x**2 - 27.8504936191617*x + 79.7275628927078\n",
      "{ 5.6600 , 5.8000 } :  -2.54011106794296*x**2 + 29.2869224259731*x - 81.9713245150236\n",
      "{ 5.8000 , 5.9400 } :  2.50899797461645*x**2 - 29.282742467716*x + 87.8807036766748\n",
      "{ 5.9400 , 6.0800 } :  -2.53859786133497*x**2 + 30.6826960633869*x - 90.2166487607007\n",
      "{ 6.0800 , 6.2200 } :  2.51040204207923*x**2 - 30.7131427621297*x + 96.4267012688697\n",
      "{ 6.2200 , 6.3600 } :  -2.5372925671841*x**2 + 32.080178177106*x - 98.8605268521534\n",
      "{ 6.3600 , 6.5000 } :  2.51161771450133*x**2 - 32.1419606059326*x + 105.365874477909\n",
      "{ 6.5000 , 6.6400 } :  -2.53615841091621*x**2 + 33.4791290244954*x - 107.902666820981\n",
      "{ 6.6400 , 6.7800 } :  2.51267755565476*x**2 - 33.569412611567*x + 114.698491410746\n",
      "{ 6.7800 , 6.9200 } :  -2.5351664689016*x**2 + 34.8793523614171*x - 117.34282184767\n",
      "{ 6.9200 , 7.0600 } :  2.51360733076646*x**2 - 34.9956770259888*x + 124.424779832754\n",
      "{ 7.0600 , 7.2000 } :  -2.53429372591275*x**2 + 36.2806858943216*x - 127.180781275942\n",
      "{ 7.2000 , 7.3400 } :  2.51442765272134*x**2 - 36.4209019580093*x + 134.544934992449\n",
      "{ 7.3400 , 7.4800 } :  -2.53352167432916*x**2 + 37.682994163092*x - 137.416363771992\n",
      "{ 7.4800 , 7.6200 } :  2.51515517865114*x**2 - 37.8452115574931*x + 145.059125622996\n",
      "{ 7.6200 , 7.7600 } :  -2.53283528822019*x**2 + 39.0861631576258*x - 148.049412041607\n",
      "{ 7.7600 , 7.9000 } :  2.51580349265405*x**2 - 39.2687107215423*x + 155.967498609565\n",
      "{ 7.9000 , 8.0400 } :  -2.53222226129598*x**2 + 40.4900961908681*x - 159.079788694456\n",
      "{ 8.0400 , 8.1800 } :  2.51638376574631*x**2 - 40.6914887239719*x + 167.270182663201\n",
      "{ 8.1800 , 8.3200 } :  -2.53167243359434*x**2 + 41.8947106972412*x - 170.50737296956\n",
      "{ 8.3200 , 8.4600 } :  2.51690525537997*x**2 - 42.1136220472913*x + 178.967291247694\n",
      "{ 8.4600 , 8.6000 } :  -2.53117735505789*x**2 + 43.2999357213172*x - 182.332058113519\n",
      "{ 8.6000 , 8.7400 } :  2.51737568776598*x**2 - 43.5351766152533*x + 191.058924933733\n",
      "{ 8.7400 , 8.8800 } :  -2.53072994973083*x**2 + 44.7057099281909*x - 194.553749261117\n",
      "{ 8.8800 , 9.0200 } :  2.51780155356581*x**2 - 44.9562095703574*x + 203.545173312437\n",
      "{ 9.0200 , 9.1600 } :  -2.53032425478619*x**2 + 46.1119800123126*x - 207.172361705405\n",
      "{ 9.1600 , 9.3000 } :  2.51818833872993*x**2 - 46.3767707009026*x + 216.426116561121\n",
      "{ 9.3000 , 9.4400 } :  -2.52995521586034*x**2 + 47.5186994144764*x - 220.187819475391\n",
      "{ 9.4400 , 9.5800 } :  2.51854070635898*x**2 - 47.7969035970244*x + 229.701826738892\n",
      "{ 9.5800 , 9.7200 } :  -2.5296185251563*x**2 + 48.9258272788084*x - 233.600054156347\n",
      "{ 9.7200 , 9.8600 } :  2.51886264111146*x**2 - 49.216646593437*x + 243.372368862766\n",
      "{ 9.8600 , 10.0000 } :  -2.52931049235916*x**2 + 50.3333275986038*x - 247.409003903995\n"
     ]
    }
   ],
   "source": [
    "for key, value in zip(interp.keys(), interp.values()):\n",
    "    print('{ %.4f' % key[0], ', %.4f' % key[1], '} : ', value)"
   ]
  },
  {
   "cell_type": "code",
   "execution_count": 90,
   "metadata": {},
   "outputs": [
    {
     "data": {
      "image/png": "[encoded data removed]",
      "text/plain": [
       "<Figure size 432x288 with 1 Axes>"
      ]
     },
     "metadata": {
      "needs_background": "light"
     },
     "output_type": "display_data"
    }
   ],
   "source": [
    "p = plot(y, (x, 3, 10), show=False)\n",
    "for i, j in interp:\n",
    "    p.extend(plot(left_square_interp(y, [3, 10], 50)[i, j], (x, i, j), line_color = 'r', show = False))\n",
    "p.show()        "
   ]
  },
  {
   "cell_type": "markdown",
   "metadata": {},
   "source": [
    "#### Квадратичный сплайн справа"
   ]
  },
  {
   "cell_type": "code",
   "execution_count": 91,
   "metadata": {},
   "outputs": [],
   "source": [
    "def right_square_interp(y, ab, N):    \n",
    "    xi = []\n",
    "    yi = []\n",
    "    a = ab[0]\n",
    "    b = ab[1]\n",
    "    h = (b - a) / N\n",
    "    while a < b:\n",
    "        xi.append(a)\n",
    "        yi.append(y.evalf(subs = {'x': a}))\n",
    "        a += h\n",
    "    if round(a - h, 5) != b:\n",
    "        xi.append(b)\n",
    "        yi.append(y.evalf(subs = {'x': b}))\n",
    "\n",
    "    const = [[] for i in range(N)]\n",
    "    for i in range(N, 0, -1):\n",
    "        A = numpy.array([[1, xi[i], xi[i] ** 2], [1, xi[i - 1], xi[i - 1] ** 2], [0, 1, 2 * xi[i]]])\n",
    "        if i == N: a = numpy.array([yi[i], yi[i - 1], 0])\n",
    "        else: a = numpy.array([yi[i], yi[i - 1], const[N - 1 - i][1] + 2 * const[N - 1 - i][2] * xi[i]])\n",
    "        for j in np.linalg.solve(A, a.astype(float64)): const[N - i].append(float(j))\n",
    "\n",
    "    const_new = []\n",
    "    for i in reversed(const): const_new.append(i)\n",
    "\n",
    "    yn = {}\n",
    "    for i in range(N):\n",
    "        yn[xi[i], xi[i + 1]] = const_new[i][0] + const_new[i][1] * x + const_new[i][2] * x ** 2\n",
    "\n",
    "    return yn"
   ]
  },
  {
   "cell_type": "markdown",
   "metadata": {},
   "source": [
    "#### N = 10"
   ]
  },
  {
   "cell_type": "code",
   "execution_count": 93,
   "metadata": {},
   "outputs": [
    {
     "name": "stdout",
     "output_type": "stream",
     "text": [
      "{ 3.0000 , 3.7000 } :  0.0928674224890633*x**2 - 0.307997772616557*x + 1.85093368948719\n",
      "{ 3.7000 , 4.4000 } :  -0.176675125260522*x**2 + 1.68661708073038*x - 1.83910378920464\n",
      "{ 4.4000 , 5.1000 } :  0.119878149137275*x**2 - 0.92305173397024*x + 3.90216760313672\n",
      "{ 5.1000 , 5.8000 } :  -0.161099918348043*x**2 + 1.94292455438001*x - 3.40607193215641\n",
      "{ 5.8000 , 6.5000 } :  0.129742644753605*x**2 - 1.43084917759912*x + 6.37787189058304\n",
      "{ 6.5000 , 7.2000 } :  -0.154433077775732*x**2 + 2.26343521528227*x - 5.62855238628147\n",
      "{ 7.2000 , 7.9000 } :  0.134469892540769*x**2 - 1.89676755727534*x + 9.34817759492595\n",
      "{ 7.9000 , 8.6000 } :  -0.150954484900598*x**2 + 2.61293760629826*x - 8.46515780118979\n",
      "{ 8.6000 , 9.3000 } :  0.137106578664315*x**2 - 2.34171268701826*x + 12.8398384600712\n",
      "{ 9.3000 , 10.0000 } :  -0.148906911527149*x**2 + 2.97813823054297*x - 11.8974683065885\n"
     ]
    }
   ],
   "source": [
    "interp = right_square_interp(y, [3, 10], 10)\n",
    "\n",
    "for key, value in zip(interp.keys(), interp.values()):\n",
    "    print('{ %.4f' % key[0], ', %.4f' % key[1], '} : ', value)"
   ]
  },
  {
   "cell_type": "code",
   "execution_count": 95,
   "metadata": {},
   "outputs": [
    {
     "data": {
      "image/png": "[encoded data removed]",
      "text/plain": [
       "<Figure size 432x288 with 1 Axes>"
      ]
     },
     "metadata": {
      "needs_background": "light"
     },
     "output_type": "display_data"
    }
   ],
   "source": [
    "p = plot(y, (x, 3, 10), show = False)\n",
    "for i, j in interp:\n",
    "    p.extend(plot(right_square_interp(y, [3, 10], 10)[i, j], (x, i, j), line_color = 'r', show = False))\n",
    "p.show()        "
   ]
  },
  {
   "cell_type": "markdown",
   "metadata": {},
   "source": [
    "#### N = 50"
   ]
  },
  {
   "cell_type": "code",
   "execution_count": 96,
   "metadata": {},
   "outputs": [
    {
     "name": "stdout",
     "output_type": "stream",
     "text": [
      "{ 3.0000 , 3.1400 } :  0.655135717347764*x**2 - 3.67793205550734*x + 6.90032188443123\n",
      "{ 3.1400 , 3.2800 } :  -0.774376640785777*x**2 + 5.2994055535713*x - 7.19409816182223\n",
      "{ 3.2800 , 3.4200 } :  0.666642213164522*x**2 - 4.15367812834266*x + 8.30895907651666\n",
      "{ 3.4200 , 3.5600 } :  -0.764514809992095*x**2 + 5.6354359100486*x - 8.43042592913239\n",
      "{ 3.5600 , 3.7000 } :  0.675166589271677*x**2 - 4.61509565270946*x + 9.81552025257695\n",
      "{ 3.7000 , 3.8400 } :  -0.757090584020649*x**2 + 5.98360742965375*x - 9.79208044979499\n",
      "{ 3.8400 , 3.9800 } :  0.681676593503739*x**2 - 5.06612449373355*x + 11.4234048431086\n",
      "{ 3.9800 , 4.1200 } :  -0.751347268225566*x**2 + 6.34074544563172*x - 11.2762663362283\n",
      "{ 4.1200 , 4.2600 } :  0.686771627654108*x**2 - 5.5093542564168*x + 13.1349390499917\n",
      "{ 4.2600 , 4.4000 } :  -0.74680450377463*x**2 + 6.70471438335605*x - 12.8810271527245\n",
      "{ 4.4000 , 4.5400 } :  0.690840704388653*x**2 - 5.94656344848084*x + 14.9517840773167\n",
      "{ 4.5400 , 4.6800 } :  -0.743144249537732*x**2 + 7.07401993317074*x - 14.6049401990324\n",
      "{ 4.6800 , 4.8200 } :  0.694146097114302*x**2 - 6.3790177114923*x + 16.8751678894791\n",
      "{ 4.8200 , 4.9600 } :  -0.740148506377269*x**2 + 7.44758226616644*x - 16.4469380566784\n",
      "{ 4.9600 , 5.1000 } :  0.696870322775238*x**2 - 6.80764451902643*x + 18.9060243705999\n",
      "{ 5.1000 , 5.2400 } :  -0.737663440546945*x**2 + 7.82459986685983*x - 18.4061988134101\n",
      "{ 5.2400 , 5.3800 } :  0.699143842386003*x**2 - 7.23314045827745*x + 21.0450808384496\n",
      "{ 5.3800 , 5.5200 } :  -0.735577777555012*x**2 + 8.20446417228786*x - 20.4820756177711\n",
      "{ 5.5200 , 5.6600 } :  0.701062072140613*x**2 - 7.65603976835183*x + 23.2929152583944\n",
      "{ 5.6600 , 5.8000 } :  -0.733809292378763*x**2 + 8.58670407800749*x - 22.6740498268024\n",
      "{ 5.8000 , 5.9400 } :  0.702696199052463*x**2 - 8.07675962259472*x + 25.6499949049439\n",
      "{ 5.9400 , 6.0800 } :  -0.732296085771183*x**2 + 8.97094872111018*x - 24.9816988758596\n",
      "{ 6.0800 , 6.2200 } :  0.704100266514998*x**2 - 8.49563092268977*x + 28.1167032412923\n",
      "{ 6.2200 , 6.3600 } :  -0.730990791619137*x**2 + 9.35690184049887*x - 27.4046736522244\n",
      "{ 6.3600 , 6.5000 } :  0.705315938936291*x**2 - 8.91291977216617*x + 30.6933590760504\n",
      "{ 6.5000 , 6.6400 } :  -0.729856635351386*x**2 + 9.74432369357362*x - 29.9426821876039\n",
      "{ 6.6400 , 6.7800 } :  0.706375780090138*x**2 - 9.3288427834898*x + 33.3802305162467\n",
      "{ 6.7800 , 6.9200 } :  -0.728864693337194*x**2 + 10.1330180361848*x - 32.5954776624502\n",
      "{ 6.9200 , 7.0600 } :  0.707305555201628*x**2 - 9.74357820359248*x + 36.1775453271792\n",
      "{ 7.0600 , 7.2000 } :  -0.727991950347211*x**2 + 10.5228225747571*x - 35.3628494203949\n",
      "{ 7.2000 , 7.3400 } :  0.708125877155698*x**2 - 10.1572741412848*x + 39.0854987573558\n",
      "{ 7.3400 , 7.4800 } :  -0.727219898764343*x**2 + 10.9136018492214*x - 38.2446161278018\n",
      "{ 7.4800 , 7.6200 } :  0.708853403086499*x**2 - 10.5700547464672*x + 42.1042595400734\n",
      "{ 7.6200 , 7.7600 } :  -0.726533512655083*x**2 + 11.3052418494345*x - 41.240620490312\n",
      "{ 7.7600 , 7.9000 } :  0.709501717088452*x**2 - 10.9820249161851*x + 45.2339745602922\n",
      "{ 7.9000 , 8.0400 } :  -0.725920485729642*x**2 + 11.6976458883408*x - 44.3507251175849\n",
      "{ 8.0400 , 8.1800 } :  0.710081990178945*x**2 - 11.3932739242693*x + 48.4747725291074\n",
      "{ 8.1800 , 8.3200 } :  -0.725370658026426*x**2 + 12.0907314003706*x - 47.5748092486695\n",
      "{ 8.3200 , 8.4600 } :  0.710603479811521*x**2 - 11.8038782532529*x + 51.8267669104039\n",
      "{ 8.4600 , 8.6000 } :  -0.724875579489686*x**2 + 12.4844274301235*x - 50.9127661302783\n",
      "{ 8.6000 , 8.7400 } :  0.711073912198527*x**2 - 12.2139038269137*x + 55.2900582749818\n",
      "{ 8.7400 , 8.8800 } :  -0.724428174162856*x**2 + 12.8786726426832*x - 54.3645008971568\n",
      "{ 8.8800 , 9.0200 } :  0.711499777998594*x**2 - 12.6234077877041*x + 58.8647362137629\n",
      "{ 9.0200 , 9.1600 } :  -0.724022479219748*x**2 + 13.2734137325148*x - 57.9299288424242\n",
      "{ 9.1600 , 9.3000 } :  0.711886563164226*x**2 - 13.0324399239596*x + 62.5508809042285\n",
      "{ 9.3000 , 9.4400 } :  -0.723653440295391*x**2 + 13.6686041403893*x - 61.6089739949938\n",
      "{ 9.4400 , 9.5800 } :  0.712238930793442*x**2 - 13.4410438257679*x + 66.348564405268\n",
      "{ 9.5800 , 9.7200 } :  -0.723316749590222*x**2 + 14.0642030103831*x - 65.4015679398952\n",
      "{ 9.7200 , 9.8600 } :  0.712560865544853*x**2 - 13.8492578278428*x + 70.2578517338824\n",
      "{ 9.8600 , 10.0000 } :  -0.723008716791961*x**2 + 14.4601743358392*x - 69.3076488330697\n"
     ]
    }
   ],
   "source": [
    "interp = right_square_interp(y, [3, 10], 50)\n",
    "\n",
    "for key, value in zip(interp.keys(), interp.values()):\n",
    "    print('{ %.4f' % key[0], ', %.4f' % key[1], '} : ', value)"
   ]
  },
  {
   "cell_type": "code",
   "execution_count": 97,
   "metadata": {},
   "outputs": [
    {
     "data": {
      "image/png": "[encoded data removed]",
      "text/plain": [
       "<Figure size 432x288 with 1 Axes>"
      ]
     },
     "metadata": {
      "needs_background": "light"
     },
     "output_type": "display_data"
    }
   ],
   "source": [
    "p = plot(y, (x, 3, 10), show = False)\n",
    "for i, j in interp:\n",
    "    p.extend(plot(right_square_interp(y, [3, 10], 50)[i, j], (x, i, j), line_color = 'r', show = False))\n",
    "p.show()        "
   ]
  },
  {
   "cell_type": "markdown",
   "metadata": {},
   "source": [
    "#### Кубический сплайн"
   ]
  },
  {
   "cell_type": "code",
   "execution_count": 98,
   "metadata": {},
   "outputs": [],
   "source": [
    "def cube_interp(y, ab, N):\n",
    "    xi = []\n",
    "    yi = []\n",
    "    a = ab[0]\n",
    "    b = ab[1]\n",
    "    h = (b - a) / N\n",
    "    while a < b:\n",
    "        xi.append(a)\n",
    "        yi.append(y.evalf(subs = {'x': a}))\n",
    "        a += h\n",
    "    if round(a - h, 5) != b:\n",
    "        xi.append(b)\n",
    "        yi.append(y.evalf(subs = {'x': b}))\n",
    "\n",
    "    A = numpy.zeros([N - 1, N - 1])\n",
    "    A[0, 0] = 2 * (xi[2] - xi[0])\n",
    "    A[0, 1] = xi[2] - xi[1]\n",
    "    A[N - 2, N - 3] = xi[N - 1] - xi[N - 2]\n",
    "    A[N - 2, N - 2] = 2 * (xi[N] - xi[N - 2])\n",
    "    for i in range(2, N - 1):\n",
    "        A[i - 1, i - 2] = xi[i] - xi[i - 1]\n",
    "        A[i - 1, i - 1] = 2 * (xi[i + 1] - xi[i - 1])\n",
    "        A[i - 1, i] = xi[i + 1] - xi[i]\n",
    "\n",
    "    a = numpy.zeros([N - 1])\n",
    "    for i in range(1, N):\n",
    "        a[i - 1] = 6 * ((yi[i + 1] - yi[i]) / (xi[i + 1] - xi[i]) - (yi[i] - yi[i - 1]) / (xi[i] - xi[i - 1]))\n",
    "\n",
    "    ci = [0]\n",
    "    for j in np.linalg.solve(A, a):\n",
    "        ci.append(float(j))\n",
    "    ci.append(0)\n",
    "\n",
    "    di = [0]\n",
    "    for i in range(1, N + 1):\n",
    "        di.append((ci[i] - ci[i - 1]) / (xi[i] - xi[i - 1]))\n",
    "\n",
    "    bi = [0]\n",
    "    for i in range(1, N + 1):\n",
    "        hi = xi[i] - xi[i - 1]\n",
    "        bi.append(ci[i] * hi / 2 - di[i] * hi ** 2 / 6 + (yi[i] - yi[i - 1]) / hi)\n",
    "\n",
    "    ai = []\n",
    "    for i in yi: ai.append(i)\n",
    "\n",
    "    yn = {}\n",
    "    for i in range(1, N + 1):\n",
    "        yn[xi[i - 1], xi[i]] = ai[i] + bi[i] * (x - xi[i]) + ci[i] * (x - xi[i]) ** 2 / 2 + di[i] * (x - xi[i]) ** 3 / 6\n",
    "\n",
    "    return yn"
   ]
  },
  {
   "cell_type": "markdown",
   "metadata": {},
   "source": [
    "#### N = 10"
   ]
  },
  {
   "cell_type": "code",
   "execution_count": 99,
   "metadata": {},
   "outputs": [
    {
     "name": "stdout",
     "output_type": "stream",
     "text": [
      "{ 3.0000 , 3.7000 } :  0.28756102740208*x - 1.37760295573887*(0.27027027027027*x - 1)**3 - 0.781882758662603*(0.27027027027027*x - 1)**2 + 0.918721143293507\n",
      " \n",
      "{ 3.7000 , 4.4000 } :  0.231503039543409*x + 1.38501095087242*(0.227272727272727*x - 1)**3 - 0.44468791233289*(0.227272727272727*x - 1)**2 + 1.14296756697431\n",
      " \n",
      "{ 4.4000 , 5.1000 } :  0.200444561286343*x + 0.0991458377043637*(0.196078431372549*x - 1)**3 - 0.556609778410728*(0.196078431372549*x - 1)**2 + 1.29036715638867\n",
      " \n",
      "{ 5.1000 , 5.8000 } :  0.174897096971846*x + 0.585642399710933*(0.172413793103448*x - 1)**3 - 0.50784760218658*(0.172413793103448*x - 1)**2 + 1.42908606758274\n",
      " \n",
      "{ 5.8000 , 6.5000 } :  0.155729442595969*x + 0.367568091504963*(0.153846153846154*x - 1)**3 - 0.519076042688251*(0.153846153846154*x - 1)**2 + 1.54673760015482\n",
      " \n",
      "{ 6.5000 , 7.2000 } :  0.14024734051919*x + 0.436230633575618*(0.138888888888889*x - 1)**3 - 0.509663155217973*(0.138888888888889*x - 1)**2 + 1.65258956011876\n",
      " \n",
      "{ 7.2000 , 7.9000 } :  0.127570804862288*x + 0.364753472999781*(0.126582278481013*x - 1)**3 - 0.516621958267079*(0.126582278481013*x - 1)**2 + 1.74817052750804\n",
      " \n",
      "{ 7.9000 , 8.6000 } :  0.117218716617611*x + 0.535209455067636*(0.116279069767442*x - 1)**3 - 0.481540692824468*(0.116279069767442*x - 1)**2 + 1.83343094681553\n",
      " \n",
      "{ 8.6000 , 9.3000 } :  0.107605358201388*x - 0.272606973316659*(0.10752688172043*x - 1)**3 - 0.624677756249907*(0.10752688172043*x - 1)**2 + 1.91952862820517\n",
      " \n",
      "{ 9.3000 , 10.0000 } :  0.102549578002811*x + 0.00343930625753546*(x - 10)**3 + 1.96772706609827\n",
      " \n"
     ]
    }
   ],
   "source": [
    "interp = cube_interp(y, [3, 10], 10)\n",
    "\n",
    "for key, value in zip(interp.keys(), interp.values()):\n",
    "    print('{ %.4f' % key[0], ', %.4f' % key[1], '} : ', value)\n",
    "    print(' ')"
   ]
  },
  {
   "cell_type": "code",
   "execution_count": 100,
   "metadata": {},
   "outputs": [
    {
     "data": {
      "image/png": "[encoded data removed]",
      "text/plain": [
       "<Figure size 432x288 with 1 Axes>"
      ]
     },
     "metadata": {
      "needs_background": "light"
     },
     "output_type": "display_data"
    }
   ],
   "source": [
    "p = plot(y, (x, 3, 10), show = False)\n",
    "for i, j in interp:\n",
    "    p.extend(plot(cube_interp(y, [3, 10], 10)[i, j], (x, i, j), line_color = 'r', show = False))\n",
    "p.show()        "
   ]
  },
  {
   "cell_type": "markdown",
   "metadata": {},
   "source": [
    "#### N = 50"
   ]
  },
  {
   "cell_type": "code",
   "execution_count": 101,
   "metadata": {
    "scrolled": false
   },
   "outputs": [
    {
     "name": "stdout",
     "output_type": "stream",
     "text": [
      "{ 3.0000 , 3.1400 } :  0.337397241924561*x - 5.68953807834161*(0.318471337579618*x - 1)**3 - 0.761021016848241*(0.318471337579618*x - 1)**2 + 0.751564009257075\n",
      " \n",
      "{ 3.1400 , 3.2800 } :  0.319734085955734*x + 2.36982634275497*(0.304878048780488*x - 1)**3 - 0.526942231903421*(0.304878048780488*x - 1)**2 + 0.808170599727114\n",
      " \n",
      "{ 3.2800 , 3.4200 } :  0.305863073011201*x - 0.106618279360909*(0.292397660818713*x - 1)**3 - 0.585978578610691*(0.292397660818713*x - 1)**2 + 0.854642149943962\n",
      " \n",
      "{ 3.4200 , 3.5600 } :  0.292655330489653*x + 0.629191205010288*(0.280898876404494*x - 1)**3 - 0.560704951400965*(0.280898876404494*x - 1)**2 + 0.900718038181633\n",
      " \n",
      "{ 3.5600 , 3.7000 } :  0.28072457015022*x + 0.393671585924385*(0.27027027027027*x - 1)**3 - 0.560985438437193*(0.27027027027027*x - 1)**2 + 0.94401603512539\n",
      " \n",
      "{ 3.7000 , 3.8400 } :  0.269721023532381*x + 0.45281555920006*(0.260416666666667*x - 1)**3 - 0.554714852706246*(0.260416666666667*x - 1)**2 + 0.985488433976188\n",
      " \n",
      "{ 3.8400 , 3.9800 } :  0.259584016531522*x + 0.42492554088361*(0.251256281407035*x - 1)**3 - 0.551058754547502*(0.251256281407035*x - 1)**2 + 1.02511488399027\n",
      " \n",
      "{ 3.9800 , 4.1200 } :  0.250200031752496*x + 0.424253799177846*(0.242718446601942*x - 1)**3 - 0.54725938183837*(0.242718446601942*x - 1)**2 + 1.06311169918609\n",
      " \n",
      "{ 4.1200 , 4.2600 } :  0.241489525446196*x + 0.416483476386838*(0.234741784037559*x - 1)**3 - 0.544021925275614*(0.234741784037559*x - 1)**2 + 1.09960132927103\n",
      " \n",
      "{ 4.2600 , 4.4000 } :  0.23337995843976*x + 0.411675803057266*(0.227272727272727*x - 1)**3 - 0.541070469688727*(0.227272727272727*x - 1)**2 + 1.13470912383036\n",
      " \n",
      "{ 4.4000 , 4.5400 } :  0.225810129059127*x + 0.406724245238368*(0.220264317180617*x - 1)**3 - 0.53842353277913*(0.220264317180617*x - 1)**2 + 1.16854029786239\n",
      " \n",
      "{ 4.5400 , 4.6800 } :  0.218726728883428*x + 0.4024458719385*(0.213675213675214*x - 1)**3 - 0.536025331416759*(0.213675213675214*x - 1)**2 + 1.20118938595698\n",
      " \n",
      "{ 4.6800 , 4.8200 } :  0.212083445986456*x + 0.398516180076378*(0.20746887966805*x - 1)**3 - 0.533849424633927*(0.20746887966805*x - 1)**2 + 1.23274009702981\n",
      " \n",
      "{ 4.8200 , 4.9600 } :  0.205839741841758*x + 0.394960568335145*(0.201612903225806*x - 1)**3 - 0.531867564471069*(0.201612903225806*x - 1)**2 + 1.26326736948095\n",
      " \n",
      "{ 4.9600 , 5.1000 } :  0.19995999231417*x + 0.391712792397076*(0.196078431372549*x - 1)**3 - 0.530057382626865*(0.196078431372549*x - 1)**2 + 1.29283845814675\n",
      " \n",
      "{ 5.1000 , 5.2400 } :  0.194412747992197*x + 0.388742446903959*(0.190839694656489*x - 1)**3 - 0.528399254610092*(0.190839694656489*x - 1)**2 + 1.32151400429452\n",
      " \n",
      "{ 5.2400 , 5.3800 } :  0.189170134115967*x + 0.386016027666207*(0.185873605947955*x - 1)**3 - 0.526876435169239*(0.185873605947955*x - 1)**2 + 1.34934888293039\n",
      " \n",
      "{ 5.3800 , 5.5200 } :  0.184207349944333*x + 0.383507006626674*(0.181159420289855*x - 1)**3 - 0.525474412471165*(0.181159420289855*x - 1)**2 + 1.37639292835294\n",
      " \n",
      "{ 5.5200 , 5.6600 } :  0.179502251462121*x + 0.381191866365078*(0.176678445229682*x - 1)**3 - 0.524180599368792*(0.176678445229682*x - 1)**2 + 1.40269154451528\n",
      " \n",
      "{ 5.6600 , 5.8000 } :  0.175035000788586*x + 0.379050422616411*(0.172413793103448*x - 1)**3 - 0.522984020052262*(0.172413793103448*x - 1)**2 + 1.42828622544565\n",
      " \n",
      "{ 5.8000 , 5.9400 } :  0.170787770267865*x + 0.377065058275189*(0.168350168350168*x - 1)**3 - 0.521875069992145*(0.168350168350168*x - 1)**2 + 1.4532150002277\n",
      " \n",
      "{ 5.9400 , 6.0800 } :  0.166744491405373*x + 0.375220396272595*(0.164473684210526*x - 1)**3 - 0.520845312648638*(0.164473684210526*x - 1)**2 + 1.47751281569384\n",
      " \n",
      "{ 6.0800 , 6.2200 } :  0.162890640866492*x + 0.373502943944075*(0.160771704180064*x - 1)**3 - 0.519887311947765*(0.160771704180064*x - 1)**2 + 1.50121186701118\n",
      " \n",
      "{ 6.2200 , 6.3600 } :  0.159213057253055*x + 0.371900823459687*(0.157232704402516*x - 1)**3 - 0.518994492008048*(0.157232704402516*x - 1)**2 + 1.52434188454155\n",
      " \n",
      "{ 6.3600 , 6.5000 } :  0.155699783575253*x + 0.370403540364695*(0.153846153846154*x - 1)**3 - 0.518161019556527*(0.153846153846154*x - 1)**2 + 1.54693038378947\n",
      " \n",
      "{ 6.5000 , 6.6400 } :  0.152339931278874*x + 0.369001792963109*(0.150602409638554*x - 1)**3 - 0.517381704737733*(0.150602409638554*x - 1)**2 + 1.56900288404479\n",
      " \n",
      "{ 6.6400 , 6.7800 } :  0.149123562438129*x + 0.367687309826962*(0.147492625368732*x - 1)**3 - 0.51665191721573*(0.147492625368732*x - 1)**2 + 1.59058310035078\n",
      " \n",
      "{ 6.7800 , 6.9200 } :  0.146041587324002*x + 0.366452714938801*(0.144508670520231*x - 1)**3 - 0.515967514785872*(0.144508670520231*x - 1)**2 + 1.61169311264434\n",
      " \n",
      "{ 6.9200 , 7.0600 } :  0.14308567504045*x + 0.365291411473746*(0.141643059490085*x - 1)**3 - 0.515324782502193*(0.141643059490085*x - 1)**2 + 1.63235351527853\n",
      " \n",
      "{ 7.0600 , 7.2000 } :  0.140248175310597*x + 0.364197484196438*(0.138888888888889*x - 1)**3 - 0.51472038050465*(0.138888888888889*x - 1)**2 + 1.65258354962063\n",
      " \n",
      "{ 7.2000 , 7.3400 } :  0.137522049812091*x + 0.363165614730274*(0.136239782016349*x - 1)**3 - 0.514151299218373*(0.136239782016349*x - 1)**2 + 1.67240122199446\n",
      " \n",
      "{ 7.3400 , 7.4800 } :  0.134900811719905*x + 0.362191011622794*(0.133689839572193*x - 1)**3 - 0.513614820602323*(0.133689839572193*x - 1)**2 + 1.69182340888506\n",
      " \n",
      "{ 7.4800 , 7.6200 } :  0.132378472326725*x + 0.361269342946367*(0.131233595800525*x - 1)**3 - 0.513108484912895*(0.131233595800525*x - 1)**2 + 1.71086595103975\n",
      " \n",
      "{ 7.6200 , 7.7600 } :  0.129949493788241*x + 0.360396699913629*(0.128865979381443*x - 1)**3 - 0.512630060947944*(0.128865979381443*x - 1)**2 + 1.72954373784456\n",
      " \n",
      "{ 7.7600 , 7.9000 } :  0.127608747178568*x + 0.35956948794279*(0.126582278481013*x - 1)**3 - 0.512177523415739*(0.126582278481013*x - 1)**2 + 1.74787078320943\n",
      " \n",
      "{ 7.9000 , 8.0400 } :  0.12535147518835*x + 0.358784629147918*(0.124378109452736*x - 1)**3 - 0.51174902069687*(0.124378109452736*x - 1)**2 + 1.76586029381922\n",
      " \n",
      "{ 8.0400 , 8.1800 } :  0.123173258798415*x + 0.358038572726579*(0.122249388753056*x - 1)**3 - 0.511342894878188*(0.122249388753056*x - 1)**2 + 1.78352473126317\n",
      " \n",
      "{ 8.1800 , 8.3200 } :  0.121069987721354*x + 0.357331018782498*(0.120192307692308*x - 1)**3 - 0.510957512667833*(0.120192307692308*x - 1)**2 + 1.80087586640338\n",
      " \n",
      "{ 8.3200 , 8.4600 } :  0.119037833073333*x + 0.356650141312241*(0.118203309692671*x - 1)**3 - 0.510591838044783*(0.118203309692671*x - 1)**2 + 1.81792483576247\n",
      " \n",
      "{ 8.4600 , 8.6000 } :  0.11707322602695*x + 0.356030446085718*(0.116279069767442*x - 1)**3 - 0.510243151687755*(0.116279069767442*x - 1)**2 + 1.83468216589522\n",
      " \n",
      "{ 8.6000 , 8.7400 } :  0.115172826733167*x + 0.35532582131703*(0.11441647597254*x - 1)**3 - 0.509915784106865*(0.11441647597254*x - 1)**2 + 1.85115789756432\n",
      " \n",
      "{ 8.7400 , 8.8800 } :  0.113333540667596*x + 0.355098485583766*(0.112612612612613*x - 1)**3 - 0.509587397567857*(0.112612612612613*x - 1)**2 + 1.86736131203467\n",
      " \n",
      "{ 8.8800 , 9.0200 } :  0.111552367809868*x + 0.353139230224088*(0.110864745011087*x - 1)**3 - 0.509338841285804*(0.110864745011087*x - 1)**2 + 1.88330214890382\n",
      " \n",
      "{ 9.0200 , 9.1600 } :  0.109826884404477*x + 0.35807824316311*(0.109170305676856*x - 1)**3 - 0.508854069846858*(0.109170305676856*x - 1)**2 + 1.89898615384578\n",
      " \n",
      "{ 9.1600 , 9.3000 } :  0.108153371627568*x + 0.336185440460464*(0.10752688172043*x - 1)**3 - 0.509344858985289*(0.10752688172043*x - 1)**2 + 1.9144321033417\n",
      " \n",
      "{ 9.3000 , 9.4400 } :  0.106533733002189*x + 0.419162169336372*(0.105932203389831*x - 1)**3 - 0.506146234295063*(0.105932203389831*x - 1)**2 + 1.92960743363292\n",
      " \n",
      "{ 9.4400 , 9.5800 } :  0.104949617894493*x + 0.0930827130384826*(0.104384133611691*x - 1)**3 - 0.517189499638295*(0.104384133611691*x - 1)**2 + 1.94467222305361\n",
      " \n",
      "{ 9.5800 , 9.7200 } :  0.103458939065196*x + 1.36205101328173*(0.102880658436214*x - 1)**3 - 0.473562081599051*(0.102880658436214*x - 1)**2 + 1.95905523883\n",
      " \n",
      "{ 9.7200 , 9.8600 } :  0.101835614296381*x - 3.58421332614735*(0.101419878296146*x - 1)**3 - 0.639976431709041*(0.101419878296146*x - 1)**2 + 1.97495271831494\n",
      " \n",
      "{ 9.8600 , 10.0000 } :  0.100914023378097*x + 0.0156733149368136*(x - 10)**3 + 1.98408261234541\n",
      " \n"
     ]
    }
   ],
   "source": [
    "interp = cube_interp(y, [3, 10], 50)\n",
    "\n",
    "for key, value in zip(interp.keys(), interp.values()):\n",
    "    print('{ %.4f' % key[0], ', %.4f' % key[1], '} : ', value)\n",
    "    print(' ')"
   ]
  },
  {
   "cell_type": "code",
   "execution_count": 102,
   "metadata": {},
   "outputs": [
    {
     "data": {
      "image/png": "[encoded data removed]",
      "text/plain": [
       "<Figure size 432x288 with 1 Axes>"
      ]
     },
     "metadata": {
      "needs_background": "light"
     },
     "output_type": "display_data"
    }
   ],
   "source": [
    "p = plot(y, (x, 3, 10), show = False)\n",
    "for i, j in interp:\n",
    "    p.extend(plot(cube_interp(y, [3, 10], 50)[i, j], (x, i, j), line_color = 'r', show = False))\n",
    "p.show()        "
   ]
  },
  {
   "cell_type": "code",
   "execution_count": null,
   "metadata": {},
   "outputs": [],
   "source": []
  }
 ],
 "metadata": {
  "kernelspec": {
   "display_name": "Python 3",
   "language": "python",
   "name": "python3"
  },
  "language_info": {
   "codemirror_mode": {
    "name": "ipython",
    "version": 3
   },
   "file_extension": ".py",
   "mimetype": "text/x-python",
   "name": "python",
   "nbconvert_exporter": "python",
   "pygments_lexer": "ipython3",
   "version": "3.8.5"
  }
 },
 "nbformat": 4,
 "nbformat_minor": 4
}

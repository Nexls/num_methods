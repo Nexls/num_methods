{
  "nbformat": 4,
  "nbformat_minor": 0,
  "metadata": {
    "colab": {
      "name": "Lab_1_1.ipynb",
      "provenance": [],
      "collapsed_sections": []
    },
    "kernelspec": {
      "name": "python3",
      "display_name": "Python 3"
    }
  },
  "cells": [
    {
      "cell_type": "markdown",
      "metadata": {
        "id": "ethSKdgN4iFz"
      },
      "source": [
        "Вариант 29 (13 по журналу) "
      ]
    },
    {
      "cell_type": "code",
      "metadata": {
        "id": "MTPRmBXw3SJe"
      },
      "source": [
        "import math\n",
        "import pandas as pd\n",
        "import matplotlib.pyplot as plt"
      ],
      "execution_count": 9,
      "outputs": []
    },
    {
      "cell_type": "code",
      "metadata": {
        "id": "E-zoyYfz4gJt"
      },
      "source": [
        "def f1(n):\n",
        "  \"\"\"\n",
        "  Функция, вычисляющая значение искомой функции на n-ой итерации\n",
        "  \"\"\"\n",
        "  # Вводим функцию\n",
        "  FUNCTION = 7*math.exp(n) / n**(n + 1)\n",
        "  # Возвращаем значение функции\n",
        "  return FUNCTION\n",
        "\n",
        "def f2(n):\n",
        "  \"\"\"\n",
        "  Другой ряд\n",
        "  \"\"\"\n",
        "  FUNCTION = (-1)**(n + 1) * (math.pi/4)**n / (2 * math.factorial(n))\n",
        "  return FUNCTION"
      ],
      "execution_count": 10,
      "outputs": []
    },
    {
      "cell_type": "code",
      "metadata": {
        "id": "K_uMikos3kg3"
      },
      "source": [
        "func_result1 = pd.DataFrame(columns = ['n', 'result'])\n",
        "func_result2 = pd.DataFrame(columns = ['n', 'result'])\n",
        "for n in range(1, 22):\n",
        "  func_result1.loc[n] = [n,f1(n)]\n",
        "  func_result2.loc[n] = [n,f2(n)]"
      ],
      "execution_count": 11,
      "outputs": []
    },
    {
      "cell_type": "code",
      "metadata": {
        "id": "dXzG8PjW6alC",
        "outputId": "99c2126e-e001-448a-aad2-c0e734020703",
        "colab": {
          "base_uri": "https://localhost:8080/"
        }
      },
      "source": [
        "print('Сумма первого ряда:',func_result1['result'].sum())\n",
        "print('Сумма второго ряда:',func_result2['result'].sum())"
      ],
      "execution_count": 12,
      "outputs": [
        {
          "output_type": "stream",
          "text": [
            "Сумма первого ряда: 27.680495717042177\n",
            "Сумма второго ряда: 0.27203093611700185\n"
          ],
          "name": "stdout"
        }
      ]
    },
    {
      "cell_type": "code",
      "metadata": {
        "id": "urYjdqmc6dpO",
        "outputId": "da262836-397a-4236-d60b-862830aed0eb",
        "colab": {
          "base_uri": "https://localhost:8080/",
          "height": 298
        }
      },
      "source": [
        "plt.plot(func_result1['n'], func_result1['result'])\n",
        "plt.title('Ряд')\n",
        "plt.ylabel('Значения ряда')\n",
        "plt.figure(figsize = (12,6))\n",
        "plt.show()"
      ],
      "execution_count": 13,
      "outputs": [
        {
          "output_type": "display_data",
          "data": {
            "image/png": "[encoded data removed]",
            "text/plain": [
              "<Figure size 432x288 with 1 Axes>"
            ]
          },
          "metadata": {
            "tags": [],
            "needs_background": "light"
          }
        },
        {
          "output_type": "display_data",
          "data": {
            "text/plain": [
              "<Figure size 1296x720 with 0 Axes>"
            ]
          },
          "metadata": {
            "tags": []
          }
        }
      ]
    },
    {
      "cell_type": "code",
      "metadata": {
        "id": "4em2hJMP6hb0",
        "outputId": "4a659338-1e33-49a2-d67f-c52ce7ab090c",
        "colab": {
          "base_uri": "https://localhost:8080/",
          "height": 298
        }
      },
      "source": [
        "# График второго ряда\n",
        "plt.plot(func_result2['n'], func_result2['result'])\n",
        "plt.title('Ряд')\n",
        "plt.ylabel('Значения ряда')\n",
        "plt.figure(figsize = (12,6))\n",
        "plt.show();"
      ],
      "execution_count": 18,
      "outputs": [
        {
          "output_type": "display_data",
          "data": {
            "image/png": "[encoded data removed]",
            "text/plain": [
              "<Figure size 432x288 with 1 Axes>"
            ]
          },
          "metadata": {
            "tags": [],
            "needs_background": "light"
          }
        },
        {
          "output_type": "display_data",
          "data": {
            "text/plain": [
              "<Figure size 144x72 with 0 Axes>"
            ]
          },
          "metadata": {
            "tags": []
          }
        }
      ]
    },
    {
      "cell_type": "code",
      "metadata": {
        "id": "hfH-Gy-A6pc9"
      },
      "source": [
        "def row_sum(func_n, e = 1e-6):\n",
        "  \"\"\"\n",
        "  Функция рассчитывающая сумму вводимого ряда с заданной точностью(по умолчанию до 6 знака)\n",
        "  \"\"\"\n",
        "  # Счетчик итераций\n",
        "  n = 1\n",
        "  # Сумма\n",
        "  res_sum = 0\n",
        "  while abs(func_n(n) - func_n(n+1)) > e:\n",
        "    \"\"\"\n",
        "    Цикл, считающий сумму ряда до тех пор, пока разница между последними членами ряда не станет меньше заданной погрешности\n",
        "    \"\"\"\n",
        "    res_sum += func_n(n)\n",
        "    n += 1\n",
        "  # Вывод результата\n",
        "  print('Cумма ряда с погрешностью', e, 'равна', res_sum)\n",
        "  print('Количество итераций:', n)"
      ],
      "execution_count": 15,
      "outputs": []
    },
    {
      "cell_type": "code",
      "metadata": {
        "id": "GcvoElT96rzH",
        "outputId": "bc7b4aeb-1bed-4226-d4b3-2cc94b421f73",
        "colab": {
          "base_uri": "https://localhost:8080/"
        }
      },
      "source": [
        "print('Ряд: 1 / (n * ln(n + 1)^2)')\n",
        "row_sum(f1)"
      ],
      "execution_count": 16,
      "outputs": [
        {
          "output_type": "stream",
          "text": [
            "Ряд: 1 / (n * ln(n + 1)^2)\n",
            "Cумма ряда с погрешностью 1e-06 равна 27.68049557200541\n",
            "Количество итераций: 11\n"
          ],
          "name": "stdout"
        }
      ]
    },
    {
      "cell_type": "code",
      "metadata": {
        "id": "fCEVougw6s-5",
        "outputId": "dfc20151-922a-4e92-e386-105c45211343",
        "colab": {
          "base_uri": "https://localhost:8080/"
        }
      },
      "source": [
        "print('Ряд: (-1)^(n + 1) * 0.2^n / (2^n - 1)')\n",
        "row_sum(f2)"
      ],
      "execution_count": 17,
      "outputs": [
        {
          "output_type": "stream",
          "text": [
            "Ряд: (-1)^(n + 1) * 0.2^n / (2^n - 1)\n",
            "Cумма ряда с погрешностью 1e-06 равна 0.27203079091743504\n",
            "Количество итераций: 9\n"
          ],
          "name": "stdout"
        }
      ]
    }
  ]
}
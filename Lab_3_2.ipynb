{
 "cells": [
  {
   "cell_type": "markdown",
   "metadata": {},
   "source": [
    "## Вариант 13"
   ]
  },
  {
   "cell_type": "code",
   "execution_count": 67,
   "metadata": {},
   "outputs": [
    {
     "name": "stdout",
     "output_type": "stream",
     "text": [
      "Populating the interactive namespace from numpy and matplotlib\n"
     ]
    },
    {
     "name": "stderr",
     "output_type": "stream",
     "text": [
      "/home/nexls/.local/lib/python3.8/site-packages/IPython/core/magics/pylab.py:159: UserWarning: pylab import has clobbered these variables: ['exp', 'e']\n",
      "`%matplotlib` prevents importing * from pylab and numpy\n",
      "  warn(\"pylab import has clobbered these variables: %s\"  % clobbered +\n"
     ]
    }
   ],
   "source": [
    "import pandas as pd\n",
    "import numpy as np\n",
    "from matplotlib import pyplot as plt\n",
    "\n",
    "%pylab inline"
   ]
  },
  {
   "cell_type": "markdown",
   "metadata": {},
   "source": [
    "Требуется решить задачу Коши для приведённой системы дифференциальных уравнений первого порядка:\n",
    "\n",
    "$\\frac{dx}{dt} = F_{x}(x, y)$, $\\frac{dy}{dt} = F_{y}(x, y)$\n",
    "\n",
    "методом Рунге-Кутты второго либо четвёртого порядка точности. Начальные условия:\n",
    "\n",
    "$x(t_{0}) = x_{0}$, $y(t_{0}) = y_{0}$\n",
    "\n",
    "Строить решение нужно до преодоления параметром $t$ точки $t_{0}$.\n",
    "Относительная точность должна быть не хуже $10^{-5}$"
   ]
  },
  {
   "cell_type": "markdown",
   "metadata": {},
   "source": [
    "Система уравнений:"
   ]
  },
  {
   "cell_type": "markdown",
   "metadata": {},
   "source": [
    "$x^\\prime = 2e^t + 2x + y$\n",
    "\n",
    "$y^\\prime = x + 2y - 3e^{4t}$"
   ]
  },
  {
   "cell_type": "markdown",
   "metadata": {},
   "source": [
    "Начальные условия:"
   ]
  },
  {
   "cell_type": "markdown",
   "metadata": {},
   "source": [
    "$x(t_{0}) = 2$, $y(t_{0}) = 0$\n",
    "\n",
    "$t_{0} = 0, t_{1} = -2$"
   ]
  },
  {
   "cell_type": "code",
   "execution_count": 68,
   "metadata": {},
   "outputs": [],
   "source": [
    "#x' = 2*e^t + 2*x + y\n",
    "#y' = x + 2*y - 3*e^(4*t)\n",
    "def F1(t, x, y):\n",
    "    return 2*np.exp(t) + 2*x + y\n",
    "\n",
    "def F2(t, x, y):\n",
    "    return x + 2*y - 3*np.exp(4*t)"
   ]
  },
  {
   "cell_type": "markdown",
   "metadata": {},
   "source": [
    "Метод Рунге-Кутты четвертого порядка точности: "
   ]
  },
  {
   "cell_type": "code",
   "execution_count": 69,
   "metadata": {},
   "outputs": [],
   "source": [
    "def R_G(low, high, h):\n",
    "    t = []\n",
    "    xi = []\n",
    "    yi = []\n",
    "    xi.append(2)\n",
    "    yi.append(3)\n",
    "    t.append(low)\n",
    "    low += h\n",
    "    i = 1\n",
    "    while round(low, 4) <= high:\n",
    "        # X\n",
    "        k1_x = h * F1(low, xi[i - 1], yi[i - 1])\n",
    "        k2_x = h * F1(low + h / 2, xi[i - 1] + k1_x / 2, yi[i - 1] + k1_x / 2)\n",
    "        k3_x = h * F1(low + h / 2, xi[i - 1] + k2_x / 2, yi[i - 1] + k2_x / 2)\n",
    "        k4_x = h * F1(low + h, xi[i - 1] + k3_x, yi[i - 1] + k3_x)\n",
    "        xi.append(xi[i - 1] + (k1_x + 2 * k2_x + 2 * k3_x + k4_x) / 6)\n",
    "        # Y\n",
    "        k1_y = h * F2(low, xi[i - 1], yi[i - 1])\n",
    "        k2_y = h * F2(low + h / 2, xi[i - 1] + k1_y / 2, yi[i - 1] + k1_y / 2)\n",
    "        k3_y = h * F2(low + h / 2, xi[i - 1] + k2_y / 2, yi[i - 1] + k2_y / 2)\n",
    "        k4_y = h * F2(low + h / 2, xi[i - 1] + k3_y, yi[i - 1] + k3_y)\n",
    "        yi.append(yi[i - 1] + (k1_y + 2 * k2_y + 2 * k3_y + k4_y) / 6)\n",
    "        \n",
    "        t.append(low)\n",
    "        low += h\n",
    "        i += 1\n",
    "    return t, xi, yi "
   ]
  },
  {
   "cell_type": "code",
   "execution_count": 70,
   "metadata": {},
   "outputs": [],
   "source": [
    "array_points = R_G(-2, 0, 0.1)"
   ]
  },
  {
   "cell_type": "code",
   "execution_count": 71,
   "metadata": {},
   "outputs": [],
   "source": [
    "data = pd.DataFrame(index = ['t', 'x', 'y'], \n",
    "                   data = [array_points[0], array_points[1], array_points[2]]).T"
   ]
  },
  {
   "cell_type": "markdown",
   "metadata": {},
   "source": [
    "Полученные точки прирешении системы ДУ:"
   ]
  },
  {
   "cell_type": "code",
   "execution_count": 72,
   "metadata": {
    "scrolled": true
   },
   "outputs": [
    {
     "data": {
      "text/html": [
       "<div>\n",
       "<style scoped>\n",
       "    .dataframe tbody tr th:only-of-type {\n",
       "        vertical-align: middle;\n",
       "    }\n",
       "\n",
       "    .dataframe tbody tr th {\n",
       "        vertical-align: top;\n",
       "    }\n",
       "\n",
       "    .dataframe thead th {\n",
       "        text-align: right;\n",
       "    }\n",
       "</style>\n",
       "<table border=\"1\" class=\"dataframe\">\n",
       "  <thead>\n",
       "    <tr style=\"text-align: right;\">\n",
       "      <th></th>\n",
       "      <th>t</th>\n",
       "      <th>x</th>\n",
       "      <th>y</th>\n",
       "    </tr>\n",
       "  </thead>\n",
       "  <tbody>\n",
       "    <tr>\n",
       "      <th>0</th>\n",
       "      <td>-2.000000e+00</td>\n",
       "      <td>2.000000</td>\n",
       "      <td>3.000000</td>\n",
       "    </tr>\n",
       "    <tr>\n",
       "      <th>1</th>\n",
       "      <td>-1.900000e+00</td>\n",
       "      <td>2.852882</td>\n",
       "      <td>3.932694</td>\n",
       "    </tr>\n",
       "    <tr>\n",
       "      <th>2</th>\n",
       "      <td>-1.800000e+00</td>\n",
       "      <td>4.017291</td>\n",
       "      <td>5.182270</td>\n",
       "    </tr>\n",
       "    <tr>\n",
       "      <th>3</th>\n",
       "      <td>-1.700000e+00</td>\n",
       "      <td>5.603238</td>\n",
       "      <td>6.858912</td>\n",
       "    </tr>\n",
       "    <tr>\n",
       "      <th>4</th>\n",
       "      <td>-1.600000e+00</td>\n",
       "      <td>7.759286</td>\n",
       "      <td>9.111304</td>\n",
       "    </tr>\n",
       "    <tr>\n",
       "      <th>5</th>\n",
       "      <td>-1.500000e+00</td>\n",
       "      <td>10.686030</td>\n",
       "      <td>12.140096</td>\n",
       "    </tr>\n",
       "    <tr>\n",
       "      <th>6</th>\n",
       "      <td>-1.400000e+00</td>\n",
       "      <td>14.654301</td>\n",
       "      <td>16.216070</td>\n",
       "    </tr>\n",
       "    <tr>\n",
       "      <th>7</th>\n",
       "      <td>-1.300000e+00</td>\n",
       "      <td>20.029727</td>\n",
       "      <td>21.704662</td>\n",
       "    </tr>\n",
       "    <tr>\n",
       "      <th>8</th>\n",
       "      <td>-1.200000e+00</td>\n",
       "      <td>27.305888</td>\n",
       "      <td>29.099055</td>\n",
       "    </tr>\n",
       "    <tr>\n",
       "      <th>9</th>\n",
       "      <td>-1.100000e+00</td>\n",
       "      <td>37.149060</td>\n",
       "      <td>39.064828</td>\n",
       "    </tr>\n",
       "    <tr>\n",
       "      <th>10</th>\n",
       "      <td>-1.000000e+00</td>\n",
       "      <td>50.458606</td>\n",
       "      <td>52.500215</td>\n",
       "    </tr>\n",
       "    <tr>\n",
       "      <th>11</th>\n",
       "      <td>-9.000000e-01</td>\n",
       "      <td>68.448470</td>\n",
       "      <td>70.617416</td>\n",
       "    </tr>\n",
       "    <tr>\n",
       "      <th>12</th>\n",
       "      <td>-8.000000e-01</td>\n",
       "      <td>92.757175</td>\n",
       "      <td>95.052303</td>\n",
       "    </tr>\n",
       "    <tr>\n",
       "      <th>13</th>\n",
       "      <td>-7.000000e-01</td>\n",
       "      <td>125.596253</td>\n",
       "      <td>128.012448</td>\n",
       "    </tr>\n",
       "    <tr>\n",
       "      <th>14</th>\n",
       "      <td>-6.000000e-01</td>\n",
       "      <td>169.950568</td>\n",
       "      <td>172.476839</td>\n",
       "    </tr>\n",
       "    <tr>\n",
       "      <th>15</th>\n",
       "      <td>-5.000000e-01</td>\n",
       "      <td>229.848644</td>\n",
       "      <td>232.465308</td>\n",
       "    </tr>\n",
       "    <tr>\n",
       "      <th>16</th>\n",
       "      <td>-4.000000e-01</td>\n",
       "      <td>310.727462</td>\n",
       "      <td>313.402006</td>\n",
       "    </tr>\n",
       "    <tr>\n",
       "      <th>17</th>\n",
       "      <td>-3.000000e-01</td>\n",
       "      <td>419.924721</td>\n",
       "      <td>422.605705</td>\n",
       "    </tr>\n",
       "    <tr>\n",
       "      <th>18</th>\n",
       "      <td>-2.000000e-01</td>\n",
       "      <td>567.343090</td>\n",
       "      <td>569.951120</td>\n",
       "    </tr>\n",
       "    <tr>\n",
       "      <th>19</th>\n",
       "      <td>-1.000000e-01</td>\n",
       "      <td>766.346493</td>\n",
       "      <td>768.760874</td>\n",
       "    </tr>\n",
       "    <tr>\n",
       "      <th>20</th>\n",
       "      <td>6.383782e-16</td>\n",
       "      <td>1034.969450</td>\n",
       "      <td>1037.008381</td>\n",
       "    </tr>\n",
       "  </tbody>\n",
       "</table>\n",
       "</div>"
      ],
      "text/plain": [
       "               t            x            y\n",
       "0  -2.000000e+00     2.000000     3.000000\n",
       "1  -1.900000e+00     2.852882     3.932694\n",
       "2  -1.800000e+00     4.017291     5.182270\n",
       "3  -1.700000e+00     5.603238     6.858912\n",
       "4  -1.600000e+00     7.759286     9.111304\n",
       "5  -1.500000e+00    10.686030    12.140096\n",
       "6  -1.400000e+00    14.654301    16.216070\n",
       "7  -1.300000e+00    20.029727    21.704662\n",
       "8  -1.200000e+00    27.305888    29.099055\n",
       "9  -1.100000e+00    37.149060    39.064828\n",
       "10 -1.000000e+00    50.458606    52.500215\n",
       "11 -9.000000e-01    68.448470    70.617416\n",
       "12 -8.000000e-01    92.757175    95.052303\n",
       "13 -7.000000e-01   125.596253   128.012448\n",
       "14 -6.000000e-01   169.950568   172.476839\n",
       "15 -5.000000e-01   229.848644   232.465308\n",
       "16 -4.000000e-01   310.727462   313.402006\n",
       "17 -3.000000e-01   419.924721   422.605705\n",
       "18 -2.000000e-01   567.343090   569.951120\n",
       "19 -1.000000e-01   766.346493   768.760874\n",
       "20  6.383782e-16  1034.969450  1037.008381"
      ]
     },
     "execution_count": 72,
     "metadata": {},
     "output_type": "execute_result"
    }
   ],
   "source": [
    "data"
   ]
  },
  {
   "cell_type": "markdown",
   "metadata": {},
   "source": [
    "Построим график траеторий, порождённой этой последовательностью точек:"
   ]
  },
  {
   "cell_type": "code",
   "execution_count": 80,
   "metadata": {},
   "outputs": [
    {
     "data": {
      "image/png": "[encoded data removed]",
      "text/plain": [
       "<Figure size 720x720 with 1 Axes>"
      ]
     },
     "metadata": {
      "needs_background": "light"
     },
     "output_type": "display_data"
    }
   ],
   "source": [
    "plt.figure(figsize(10, 10))\n",
    "plt.plot(array_points[1], array_points[2])\n",
    "plt.show()"
   ]
  },
  {
   "cell_type": "code",
   "execution_count": 78,
   "metadata": {},
   "outputs": [
    {
     "data": {
      "image/png": "[encoded data removed]",
      "text/plain": [
       "<Figure size 720x720 with 1 Axes>"
      ]
     },
     "metadata": {
      "needs_background": "light"
     },
     "output_type": "display_data"
    }
   ],
   "source": [
    "plt.figure(figsize(10, 10))\n",
    "plt.plot(array_points[0], array_points[1], color = 'b', label = 'x(t)')\n",
    "plt.plot(array_points[0], array_points[2], color = 'r', label = 'y(t)')\n",
    "plt.legend(prop={'size': 10})\n",
    "plt.show()"
   ]
  },
  {
   "cell_type": "markdown",
   "metadata": {},
   "source": [
    "Правило Рунге оценки погрешности:"
   ]
  },
  {
   "cell_type": "code",
   "execution_count": 74,
   "metadata": {},
   "outputs": [
    {
     "name": "stdout",
     "output_type": "stream",
     "text": [
      "0 2\n",
      "2 4.017290592030302\n",
      "4 7.7592855197384605\n",
      "6 14.654300839437775\n",
      "8 27.305887573698097\n",
      "10 50.458605656550375\n",
      "12 92.75717524359126\n",
      "14 169.9505682311879\n",
      "16 310.72746162528364\n",
      "18 567.3430895963975\n",
      "20 1034.969449865384\n"
     ]
    }
   ],
   "source": [
    "array_points = R_G(-2, 0, 0.1)\n",
    "array_exp = R_G(-2, 0, 0.1)\n",
    "\n",
    "exp = []\n",
    "for i, x in enumerate(array_exp[1]):\n",
    "    if i % 2 == 0 or i == len(array_exp[1]) - 1:\n",
    "        exp.append(x)\n",
    "        print(i,x)\n",
    "        \n",
    "e = []\n",
    "for i in range(len(exp)):\n",
    "    e.append( abs(array_points[1][i] - exp[i]) / 3 )"
   ]
  },
  {
   "cell_type": "code",
   "execution_count": 75,
   "metadata": {},
   "outputs": [
    {
     "data": {
      "text/plain": [
       "0.0"
      ]
     },
     "execution_count": 75,
     "metadata": {},
     "output_type": "execute_result"
    }
   ],
   "source": [
    "e[0]"
   ]
  },
  {
   "cell_type": "code",
   "execution_count": null,
   "metadata": {},
   "outputs": [],
   "source": []
  }
 ],
 "metadata": {
  "kernelspec": {
   "display_name": "Python 3",
   "language": "python",
   "name": "python3"
  },
  "language_info": {
   "codemirror_mode": {
    "name": "ipython",
    "version": 3
   },
   "file_extension": ".py",
   "mimetype": "text/x-python",
   "name": "python",
   "nbconvert_exporter": "python",
   "pygments_lexer": "ipython3",
   "version": "3.8.5"
  }
 },
 "nbformat": 4,
 "nbformat_minor": 4
}

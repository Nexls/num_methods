{
 "cells": [
  {
   "cell_type": "markdown",
   "metadata": {},
   "source": [
    "## Вариант 13"
   ]
  },
  {
   "cell_type": "code",
   "execution_count": 1,
   "metadata": {},
   "outputs": [
    {
     "name": "stdout",
     "output_type": "stream",
     "text": [
      "Populating the interactive namespace from numpy and matplotlib\n"
     ]
    }
   ],
   "source": [
    "import pandas as pd\n",
    "import numpy as np\n",
    "from matplotlib import pyplot as plt\n",
    "\n",
    "%pylab inline"
   ]
  },
  {
   "cell_type": "markdown",
   "metadata": {},
   "source": [
    "Требуется решить задачу Коши для приведённой системы дифференциальных уравнений первого порядка:\n",
    "\n",
    "$\\frac{dx}{dt} = F_{x}(x, y)$, $\\frac{dy}{dt} = F_{y}(x, y)$\n",
    "\n",
    "методом Рунге-Кутты второго либо четвёртого порядка точности. Начальные условия:\n",
    "\n",
    "$x(t_{0}) = x_{0}$, $y(t_{0}) = y_{0}$\n",
    "\n",
    "Строить решение нужно до преодоления параметром $t$ точки $t_{0}$.\n",
    "Относительная точность должна быть не хуже $10^{-5}$"
   ]
  },
  {
   "cell_type": "markdown",
   "metadata": {},
   "source": [
    "Система уравнений:"
   ]
  },
  {
   "cell_type": "markdown",
   "metadata": {},
   "source": [
    "$x^\\prime = 2e^t + 2x + y$\n",
    "\n",
    "$y^\\prime = x + 2y - 3e^{4t}$"
   ]
  },
  {
   "cell_type": "markdown",
   "metadata": {},
   "source": [
    "Начальные условия:"
   ]
  },
  {
   "cell_type": "markdown",
   "metadata": {},
   "source": [
    "$x(t_{0}) = 2$, $y(t_{0}) = 0$\n",
    "\n",
    "$t_{0} = 0, t_{1} = -2$"
   ]
  },
  {
   "cell_type": "code",
   "execution_count": 2,
   "metadata": {},
   "outputs": [],
   "source": [
    "def F1(t, x, y):\n",
    "    return 2*np.exp(t) + 2*x + y\n",
    "\n",
    "def F2(t, x, y):\n",
    "    return x + 2*y - 3*np.exp(4*t)"
   ]
  },
  {
   "cell_type": "markdown",
   "metadata": {},
   "source": [
    "Метод Рунге-Кутты четвертого порядка точности: "
   ]
  },
  {
   "cell_type": "code",
   "execution_count": 3,
   "metadata": {},
   "outputs": [],
   "source": [
    "def R_G(low, high, h):\n",
    "    t = []\n",
    "    xi = []\n",
    "    yi = []\n",
    "    xi.append(2)\n",
    "    yi.append(3)\n",
    "    t.append(low)\n",
    "    low += h\n",
    "    i = 1\n",
    "    while round(low, 4) <= high:\n",
    "        # X\n",
    "        k1_x = h * F1(low, xi[i - 1], yi[i - 1])\n",
    "        k2_x = h * F1(low + h / 2, xi[i - 1] + k1_x / 2, yi[i - 1] + k1_x / 2)\n",
    "        k3_x = h * F1(low + h / 2, xi[i - 1] + k2_x / 2, yi[i - 1] + k2_x / 2)\n",
    "        k4_x = h * F1(low + h, xi[i - 1] + k3_x, yi[i - 1] + k3_x)\n",
    "        xi.append(xi[i - 1] + (k1_x + 2 * k2_x + 2 * k3_x + k4_x) / 6)\n",
    "        # Y\n",
    "        k1_y = h * F2(low, xi[i - 1], yi[i - 1])\n",
    "        k2_y = h * F2(low + h / 2, xi[i - 1] + k1_y / 2, yi[i - 1] + k1_y / 2)\n",
    "        k3_y = h * F2(low + h / 2, xi[i - 1] + k2_y / 2, yi[i - 1] + k2_y / 2)\n",
    "        k4_y = h * F2(low + h / 2, xi[i - 1] + k3_y, yi[i - 1] + k3_y)\n",
    "        yi.append(yi[i - 1] + (k1_y + 2 * k2_y + 2 * k3_y + k4_y) / 6)\n",
    "        \n",
    "        t.append(low)\n",
    "        low += h\n",
    "        i += 1\n",
    "    return t, xi, yi "
   ]
  },
  {
   "cell_type": "code",
   "execution_count": 4,
   "metadata": {},
   "outputs": [],
   "source": [
    "array_points = R_G(0, -2, 0.1)"
   ]
  },
  {
   "cell_type": "code",
   "execution_count": 5,
   "metadata": {},
   "outputs": [],
   "source": [
    "data = pd.DataFrame(index = ['t', 'x', 'y'], \n",
    "                   data = [array_points[0], array_points[1], array_points[2]]).T"
   ]
  },
  {
   "cell_type": "markdown",
   "metadata": {},
   "source": [
    "Полученные точки прирешении системы ДУ:"
   ]
  },
  {
   "cell_type": "code",
   "execution_count": 6,
   "metadata": {},
   "outputs": [
    {
     "data": {
      "text/html": [
       "<div>\n",
       "<style scoped>\n",
       "    .dataframe tbody tr th:only-of-type {\n",
       "        vertical-align: middle;\n",
       "    }\n",
       "\n",
       "    .dataframe tbody tr th {\n",
       "        vertical-align: top;\n",
       "    }\n",
       "\n",
       "    .dataframe thead th {\n",
       "        text-align: right;\n",
       "    }\n",
       "</style>\n",
       "<table border=\"1\" class=\"dataframe\">\n",
       "  <thead>\n",
       "    <tr style=\"text-align: right;\">\n",
       "      <th></th>\n",
       "      <th>t</th>\n",
       "      <th>x</th>\n",
       "      <th>y</th>\n",
       "    </tr>\n",
       "  </thead>\n",
       "  <tbody>\n",
       "    <tr>\n",
       "      <th>0</th>\n",
       "      <td>0</td>\n",
       "      <td>2</td>\n",
       "      <td>3</td>\n",
       "    </tr>\n",
       "  </tbody>\n",
       "</table>\n",
       "</div>"
      ],
      "text/plain": [
       "   t  x  y\n",
       "0  0  2  3"
      ]
     },
     "execution_count": 6,
     "metadata": {},
     "output_type": "execute_result"
    }
   ],
   "source": [
    "data"
   ]
  },
  {
   "cell_type": "markdown",
   "metadata": {},
   "source": [
    "Построим график траеторий, порождённой этой последовательностью точек:"
   ]
  },
  {
   "cell_type": "code",
   "execution_count": 7,
   "metadata": {},
   "outputs": [
    {
     "data": {
      "image/png": "[encoded data removed]",
      "text/plain": [
       "<Figure size 720x720 with 1 Axes>"
      ]
     },
     "metadata": {
      "needs_background": "light"
     },
     "output_type": "display_data"
    }
   ],
   "source": [
    "plt.figure(figsize(10, 10))\n",
    "plt.plot(array_points[0], array_points[1], color = 'b', label = 'x(t)')\n",
    "plt.plot(array_points[0], array_points[2], color = 'r', label = 'y(t)')\n",
    "plt.legend(prop={'size': 20})\n",
    "plt.show()"
   ]
  },
  {
   "cell_type": "markdown",
   "metadata": {},
   "source": [
    "Правило Рунге оценки погрешности:"
   ]
  },
  {
   "cell_type": "code",
   "execution_count": 8,
   "metadata": {},
   "outputs": [],
   "source": [
    "array_exp = R_G(0, -2, 0.05)\n",
    "\n",
    "exp = []\n",
    "for i, x in enumerate(array_exp[1]):\n",
    "    if i % 2 == 0 or i == len(array_exp[1]) - 1:\n",
    "        exp.append(x)\n",
    "        \n",
    "e = []\n",
    "for i in range(len(exp)):\n",
    "    e.append( abs(array_points[1][i] - exp[i]) / 3 )"
   ]
  },
  {
   "cell_type": "code",
   "execution_count": 9,
   "metadata": {},
   "outputs": [
    {
     "data": {
      "text/plain": [
       "[0.0]"
      ]
     },
     "execution_count": 9,
     "metadata": {},
     "output_type": "execute_result"
    }
   ],
   "source": [
    "e"
   ]
  },
  {
   "cell_type": "markdown",
   "metadata": {},
   "source": [
    "Решим символьно систему и построим решение:"
   ]
  },
  {
   "cell_type": "code",
   "execution_count": 10,
   "metadata": {},
   "outputs": [],
   "source": [
    "def f_x(t):\n",
    "    return 41 / (5 * 18) * np.exp(-3 * t) * (6 * np.exp(5 * t) - 1) - (2 * 37) / (5 * 12) * np.exp(-3 * t) * (np.exp( 5 * t) - 1) - 2 * t / 3 - 5 / 18\n",
    "\n",
    "def f_y(t):\n",
    "    return (3 * 41) / (5 * 18) * np.exp(-3 * t) * (np.exp(5 * t) - 1) - 37 / (5 * 12) * np.exp(-3 * t) * (np.exp(5 * t) - 6) + 1 / 12 * (-6 * t - 1)"
   ]
  },
  {
   "cell_type": "code",
   "execution_count": 11,
   "metadata": {},
   "outputs": [
    {
     "data": {
      "image/png": "[encoded data removed]",
      "text/plain": [
       "<Figure size 720x720 with 1 Axes>"
      ]
     },
     "metadata": {
      "needs_background": "light"
     },
     "output_type": "display_data"
    }
   ],
   "source": [
    "plt.figure(figsize(10, 10))\n",
    "plt.plot(array_points[0], array_points[1], color = 'b', label = 'x(t)')\n",
    "plt.plot(array_points[0], array_points[2], color = 'r', label = 'y(t)')\n",
    "\n",
    "plt.plot(array_points[0], [f_x(i) for i in array_points[0]], color = 'black')\n",
    "plt.plot(array_points[0], [f_y(i) for i in array_points[0]], color = 'black')\n",
    "\n",
    "plt.legend(prop={'size': 20})\n",
    "plt.show()"
   ]
  }
 ],
 "metadata": {
  "kernelspec": {
   "display_name": "Python 3",
   "language": "python",
   "name": "python3"
  },
  "language_info": {
   "codemirror_mode": {
    "name": "ipython",
    "version": 3
   },
   "file_extension": ".py",
   "mimetype": "text/x-python",
   "name": "python",
   "nbconvert_exporter": "python",
   "pygments_lexer": "ipython3",
   "version": "3.8.5"
  }
 },
 "nbformat": 4,
 "nbformat_minor": 4
}
